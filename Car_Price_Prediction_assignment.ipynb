{
  "nbformat": 4,
  "nbformat_minor": 0,
  "metadata": {
    "kernelspec": {
      "display_name": "Python 3",
      "language": "python",
      "name": "python3"
    },
    "language_info": {
      "codemirror_mode": {
        "name": "ipython",
        "version": 3
      },
      "file_extension": ".py",
      "mimetype": "text/x-python",
      "name": "python",
      "nbconvert_exporter": "python",
      "pygments_lexer": "ipython3",
      "version": "3.7.6"
    },
    "colab": {
      "name": "Car Price Prediction assignment.ipynb",
      "provenance": [],
      "collapsed_sections": []
    }
  },
  "cells": [
    {
      "cell_type": "markdown",
      "metadata": {
        "id": "FJUTQkBGuxKI"
      },
      "source": [
        "# Car Price Prediction::"
      ]
    },
    {
      "cell_type": "markdown",
      "metadata": {
        "id": "jC-8D5aBuxKZ"
      },
      "source": [
        "Download dataset from this link:\n",
        "\n",
        "https://www.kaggle.com/hellbuoy/car-price-prediction"
      ]
    },
    {
      "cell_type": "markdown",
      "metadata": {
        "id": "262CQDIeuxKa"
      },
      "source": [
        "# Problem Statement::"
      ]
    },
    {
      "cell_type": "markdown",
      "metadata": {
        "id": "ip-sIdtXuxKa"
      },
      "source": [
        "A Chinese automobile company Geely Auto aspires to enter the US market by setting up their manufacturing unit there and producing cars locally to give competition to their US and European counterparts.\n",
        "\n",
        "They have contracted an automobile consulting company to understand the factors on which the pricing of cars depends. Specifically, they want to understand the factors affecting the pricing of cars in the American market, since those may be very different from the Chinese market. The company wants to know:\n",
        "\n",
        "Which variables are significant in predicting the price of a car\n",
        "How well those variables describe the price of a car\n",
        "Based on various market surveys, the consulting firm has gathered a large data set of different types of cars across the America market.\n",
        "\n",
        "# task::\n",
        "We are required to model the price of cars with the available independent variables. It will be used by the management to understand how exactly the prices vary with the independent variables. They can accordingly manipulate the design of the cars, the business strategy etc. to meet certain price levels. Further, the model will be a good way for management to understand the pricing dynamics of a new market."
      ]
    },
    {
      "cell_type": "markdown",
      "metadata": {
        "id": "0SmrI159uxKb"
      },
      "source": [
        "# WORKFLOW ::"
      ]
    },
    {
      "cell_type": "markdown",
      "metadata": {
        "id": "4T-JSWn1uxKc"
      },
      "source": [
        "1.Load Data\n",
        "\n",
        "2.Check Missing Values ( If Exist ; Fill each record with mean of its feature )\n",
        "\n",
        "3.Split into 50% Training(Samples,Labels) , 30% Test(Samples,Labels) and 20% Validation Data(Samples,Labels).\n",
        "\n",
        "4.Model : input Layer (No. of features ), 3 hidden layers including 10,8,6 unit & Output Layer with activation function relu/tanh (check by experiment).\n",
        "\n",
        "5.Compilation Step (Note : Its a Regression problem , select loss , metrics according to it)\n",
        "6.Train the Model with Epochs (100) and validate it\n",
        "\n",
        "7.If the model gets overfit tune your model by changing the units , No. of layers , activation function , epochs , add dropout layer or add Regularizer according to the need .\n",
        "\n",
        "8.Evaluation Step\n",
        "\n",
        "9.Prediction"
      ]
    },
    {
      "cell_type": "code",
      "metadata": {
        "colab": {
          "resources": {
            "http://localhost:8080/nbextensions/google.colab/files.js": {
              "data": "Ly8gQ29weXJpZ2h0IDIwMTcgR29vZ2xlIExMQwovLwovLyBMaWNlbnNlZCB1bmRlciB0aGUgQXBhY2hlIExpY2Vuc2UsIFZlcnNpb24gMi4wICh0aGUgIkxpY2Vuc2UiKTsKLy8geW91IG1heSBub3QgdXNlIHRoaXMgZmlsZSBleGNlcHQgaW4gY29tcGxpYW5jZSB3aXRoIHRoZSBMaWNlbnNlLgovLyBZb3UgbWF5IG9idGFpbiBhIGNvcHkgb2YgdGhlIExpY2Vuc2UgYXQKLy8KLy8gICAgICBodHRwOi8vd3d3LmFwYWNoZS5vcmcvbGljZW5zZXMvTElDRU5TRS0yLjAKLy8KLy8gVW5sZXNzIHJlcXVpcmVkIGJ5IGFwcGxpY2FibGUgbGF3IG9yIGFncmVlZCB0byBpbiB3cml0aW5nLCBzb2Z0d2FyZQovLyBkaXN0cmlidXRlZCB1bmRlciB0aGUgTGljZW5zZSBpcyBkaXN0cmlidXRlZCBvbiBhbiAiQVMgSVMiIEJBU0lTLAovLyBXSVRIT1VUIFdBUlJBTlRJRVMgT1IgQ09ORElUSU9OUyBPRiBBTlkgS0lORCwgZWl0aGVyIGV4cHJlc3Mgb3IgaW1wbGllZC4KLy8gU2VlIHRoZSBMaWNlbnNlIGZvciB0aGUgc3BlY2lmaWMgbGFuZ3VhZ2UgZ292ZXJuaW5nIHBlcm1pc3Npb25zIGFuZAovLyBsaW1pdGF0aW9ucyB1bmRlciB0aGUgTGljZW5zZS4KCi8qKgogKiBAZmlsZW92ZXJ2aWV3IEhlbHBlcnMgZm9yIGdvb2dsZS5jb2xhYiBQeXRob24gbW9kdWxlLgogKi8KKGZ1bmN0aW9uKHNjb3BlKSB7CmZ1bmN0aW9uIHNwYW4odGV4dCwgc3R5bGVBdHRyaWJ1dGVzID0ge30pIHsKICBjb25zdCBlbGVtZW50ID0gZG9jdW1lbnQuY3JlYXRlRWxlbWVudCgnc3BhbicpOwogIGVsZW1lbnQudGV4dENvbnRlbnQgPSB0ZXh0OwogIGZvciAoY29uc3Qga2V5IG9mIE9iamVjdC5rZXlzKHN0eWxlQXR0cmlidXRlcykpIHsKICAgIGVsZW1lbnQuc3R5bGVba2V5XSA9IHN0eWxlQXR0cmlidXRlc1trZXldOwogIH0KICByZXR1cm4gZWxlbWVudDsKfQoKLy8gTWF4IG51bWJlciBvZiBieXRlcyB3aGljaCB3aWxsIGJlIHVwbG9hZGVkIGF0IGEgdGltZS4KY29uc3QgTUFYX1BBWUxPQURfU0laRSA9IDEwMCAqIDEwMjQ7CgpmdW5jdGlvbiBfdXBsb2FkRmlsZXMoaW5wdXRJZCwgb3V0cHV0SWQpIHsKICBjb25zdCBzdGVwcyA9IHVwbG9hZEZpbGVzU3RlcChpbnB1dElkLCBvdXRwdXRJZCk7CiAgY29uc3Qgb3V0cHV0RWxlbWVudCA9IGRvY3VtZW50LmdldEVsZW1lbnRCeUlkKG91dHB1dElkKTsKICAvLyBDYWNoZSBzdGVwcyBvbiB0aGUgb3V0cHV0RWxlbWVudCB0byBtYWtlIGl0IGF2YWlsYWJsZSBmb3IgdGhlIG5leHQgY2FsbAogIC8vIHRvIHVwbG9hZEZpbGVzQ29udGludWUgZnJvbSBQeXRob24uCiAgb3V0cHV0RWxlbWVudC5zdGVwcyA9IHN0ZXBzOwoKICByZXR1cm4gX3VwbG9hZEZpbGVzQ29udGludWUob3V0cHV0SWQpOwp9CgovLyBUaGlzIGlzIHJvdWdobHkgYW4gYXN5bmMgZ2VuZXJhdG9yIChub3Qgc3VwcG9ydGVkIGluIHRoZSBicm93c2VyIHlldCksCi8vIHdoZXJlIHRoZXJlIGFyZSBtdWx0aXBsZSBhc3luY2hyb25vdXMgc3RlcHMgYW5kIHRoZSBQeXRob24gc2lkZSBpcyBnb2luZwovLyB0byBwb2xsIGZvciBjb21wbGV0aW9uIG9mIGVhY2ggc3RlcC4KLy8gVGhpcyB1c2VzIGEgUHJvbWlzZSB0byBibG9jayB0aGUgcHl0aG9uIHNpZGUgb24gY29tcGxldGlvbiBvZiBlYWNoIHN0ZXAsCi8vIHRoZW4gcGFzc2VzIHRoZSByZXN1bHQgb2YgdGhlIHByZXZpb3VzIHN0ZXAgYXMgdGhlIGlucHV0IHRvIHRoZSBuZXh0IHN0ZXAuCmZ1bmN0aW9uIF91cGxvYWRGaWxlc0NvbnRpbnVlKG91dHB1dElkKSB7CiAgY29uc3Qgb3V0cHV0RWxlbWVudCA9IGRvY3VtZW50LmdldEVsZW1lbnRCeUlkKG91dHB1dElkKTsKICBjb25zdCBzdGVwcyA9IG91dHB1dEVsZW1lbnQuc3RlcHM7CgogIGNvbnN0IG5leHQgPSBzdGVwcy5uZXh0KG91dHB1dEVsZW1lbnQubGFzdFByb21pc2VWYWx1ZSk7CiAgcmV0dXJuIFByb21pc2UucmVzb2x2ZShuZXh0LnZhbHVlLnByb21pc2UpLnRoZW4oKHZhbHVlKSA9PiB7CiAgICAvLyBDYWNoZSB0aGUgbGFzdCBwcm9taXNlIHZhbHVlIHRvIG1ha2UgaXQgYXZhaWxhYmxlIHRvIHRoZSBuZXh0CiAgICAvLyBzdGVwIG9mIHRoZSBnZW5lcmF0b3IuCiAgICBvdXRwdXRFbGVtZW50Lmxhc3RQcm9taXNlVmFsdWUgPSB2YWx1ZTsKICAgIHJldHVybiBuZXh0LnZhbHVlLnJlc3BvbnNlOwogIH0pOwp9CgovKioKICogR2VuZXJhdG9yIGZ1bmN0aW9uIHdoaWNoIGlzIGNhbGxlZCBiZXR3ZWVuIGVhY2ggYXN5bmMgc3RlcCBvZiB0aGUgdXBsb2FkCiAqIHByb2Nlc3MuCiAqIEBwYXJhbSB7c3RyaW5nfSBpbnB1dElkIEVsZW1lbnQgSUQgb2YgdGhlIGlucHV0IGZpbGUgcGlja2VyIGVsZW1lbnQuCiAqIEBwYXJhbSB7c3RyaW5nfSBvdXRwdXRJZCBFbGVtZW50IElEIG9mIHRoZSBvdXRwdXQgZGlzcGxheS4KICogQHJldHVybiB7IUl0ZXJhYmxlPCFPYmplY3Q+fSBJdGVyYWJsZSBvZiBuZXh0IHN0ZXBzLgogKi8KZnVuY3Rpb24qIHVwbG9hZEZpbGVzU3RlcChpbnB1dElkLCBvdXRwdXRJZCkgewogIGNvbnN0IGlucHV0RWxlbWVudCA9IGRvY3VtZW50LmdldEVsZW1lbnRCeUlkKGlucHV0SWQpOwogIGlucHV0RWxlbWVudC5kaXNhYmxlZCA9IGZhbHNlOwoKICBjb25zdCBvdXRwdXRFbGVtZW50ID0gZG9jdW1lbnQuZ2V0RWxlbWVudEJ5SWQob3V0cHV0SWQpOwogIG91dHB1dEVsZW1lbnQuaW5uZXJIVE1MID0gJyc7CgogIGNvbnN0IHBpY2tlZFByb21pc2UgPSBuZXcgUHJvbWlzZSgocmVzb2x2ZSkgPT4gewogICAgaW5wdXRFbGVtZW50LmFkZEV2ZW50TGlzdGVuZXIoJ2NoYW5nZScsIChlKSA9PiB7CiAgICAgIHJlc29sdmUoZS50YXJnZXQuZmlsZXMpOwogICAgfSk7CiAgfSk7CgogIGNvbnN0IGNhbmNlbCA9IGRvY3VtZW50LmNyZWF0ZUVsZW1lbnQoJ2J1dHRvbicpOwogIGlucHV0RWxlbWVudC5wYXJlbnRFbGVtZW50LmFwcGVuZENoaWxkKGNhbmNlbCk7CiAgY2FuY2VsLnRleHRDb250ZW50ID0gJ0NhbmNlbCB1cGxvYWQnOwogIGNvbnN0IGNhbmNlbFByb21pc2UgPSBuZXcgUHJvbWlzZSgocmVzb2x2ZSkgPT4gewogICAgY2FuY2VsLm9uY2xpY2sgPSAoKSA9PiB7CiAgICAgIHJlc29sdmUobnVsbCk7CiAgICB9OwogIH0pOwoKICAvLyBXYWl0IGZvciB0aGUgdXNlciB0byBwaWNrIHRoZSBmaWxlcy4KICBjb25zdCBmaWxlcyA9IHlpZWxkIHsKICAgIHByb21pc2U6IFByb21pc2UucmFjZShbcGlja2VkUHJvbWlzZSwgY2FuY2VsUHJvbWlzZV0pLAogICAgcmVzcG9uc2U6IHsKICAgICAgYWN0aW9uOiAnc3RhcnRpbmcnLAogICAgfQogIH07CgogIGNhbmNlbC5yZW1vdmUoKTsKCiAgLy8gRGlzYWJsZSB0aGUgaW5wdXQgZWxlbWVudCBzaW5jZSBmdXJ0aGVyIHBpY2tzIGFyZSBub3QgYWxsb3dlZC4KICBpbnB1dEVsZW1lbnQuZGlzYWJsZWQgPSB0cnVlOwoKICBpZiAoIWZpbGVzKSB7CiAgICByZXR1cm4gewogICAgICByZXNwb25zZTogewogICAgICAgIGFjdGlvbjogJ2NvbXBsZXRlJywKICAgICAgfQogICAgfTsKICB9CgogIGZvciAoY29uc3QgZmlsZSBvZiBmaWxlcykgewogICAgY29uc3QgbGkgPSBkb2N1bWVudC5jcmVhdGVFbGVtZW50KCdsaScpOwogICAgbGkuYXBwZW5kKHNwYW4oZmlsZS5uYW1lLCB7Zm9udFdlaWdodDogJ2JvbGQnfSkpOwogICAgbGkuYXBwZW5kKHNwYW4oCiAgICAgICAgYCgke2ZpbGUudHlwZSB8fCAnbi9hJ30pIC0gJHtmaWxlLnNpemV9IGJ5dGVzLCBgICsKICAgICAgICBgbGFzdCBtb2RpZmllZDogJHsKICAgICAgICAgICAgZmlsZS5sYXN0TW9kaWZpZWREYXRlID8gZmlsZS5sYXN0TW9kaWZpZWREYXRlLnRvTG9jYWxlRGF0ZVN0cmluZygpIDoKICAgICAgICAgICAgICAgICAgICAgICAgICAgICAgICAgICAgJ24vYSd9IC0gYCkpOwogICAgY29uc3QgcGVyY2VudCA9IHNwYW4oJzAlIGRvbmUnKTsKICAgIGxpLmFwcGVuZENoaWxkKHBlcmNlbnQpOwoKICAgIG91dHB1dEVsZW1lbnQuYXBwZW5kQ2hpbGQobGkpOwoKICAgIGNvbnN0IGZpbGVEYXRhUHJvbWlzZSA9IG5ldyBQcm9taXNlKChyZXNvbHZlKSA9PiB7CiAgICAgIGNvbnN0IHJlYWRlciA9IG5ldyBGaWxlUmVhZGVyKCk7CiAgICAgIHJlYWRlci5vbmxvYWQgPSAoZSkgPT4gewogICAgICAgIHJlc29sdmUoZS50YXJnZXQucmVzdWx0KTsKICAgICAgfTsKICAgICAgcmVhZGVyLnJlYWRBc0FycmF5QnVmZmVyKGZpbGUpOwogICAgfSk7CiAgICAvLyBXYWl0IGZvciB0aGUgZGF0YSB0byBiZSByZWFkeS4KICAgIGxldCBmaWxlRGF0YSA9IHlpZWxkIHsKICAgICAgcHJvbWlzZTogZmlsZURhdGFQcm9taXNlLAogICAgICByZXNwb25zZTogewogICAgICAgIGFjdGlvbjogJ2NvbnRpbnVlJywKICAgICAgfQogICAgfTsKCiAgICAvLyBVc2UgYSBjaHVua2VkIHNlbmRpbmcgdG8gYXZvaWQgbWVzc2FnZSBzaXplIGxpbWl0cy4gU2VlIGIvNjIxMTU2NjAuCiAgICBsZXQgcG9zaXRpb24gPSAwOwogICAgd2hpbGUgKHBvc2l0aW9uIDwgZmlsZURhdGEuYnl0ZUxlbmd0aCkgewogICAgICBjb25zdCBsZW5ndGggPSBNYXRoLm1pbihmaWxlRGF0YS5ieXRlTGVuZ3RoIC0gcG9zaXRpb24sIE1BWF9QQVlMT0FEX1NJWkUpOwogICAgICBjb25zdCBjaHVuayA9IG5ldyBVaW50OEFycmF5KGZpbGVEYXRhLCBwb3NpdGlvbiwgbGVuZ3RoKTsKICAgICAgcG9zaXRpb24gKz0gbGVuZ3RoOwoKICAgICAgY29uc3QgYmFzZTY0ID0gYnRvYShTdHJpbmcuZnJvbUNoYXJDb2RlLmFwcGx5KG51bGwsIGNodW5rKSk7CiAgICAgIHlpZWxkIHsKICAgICAgICByZXNwb25zZTogewogICAgICAgICAgYWN0aW9uOiAnYXBwZW5kJywKICAgICAgICAgIGZpbGU6IGZpbGUubmFtZSwKICAgICAgICAgIGRhdGE6IGJhc2U2NCwKICAgICAgICB9LAogICAgICB9OwogICAgICBwZXJjZW50LnRleHRDb250ZW50ID0KICAgICAgICAgIGAke01hdGgucm91bmQoKHBvc2l0aW9uIC8gZmlsZURhdGEuYnl0ZUxlbmd0aCkgKiAxMDApfSUgZG9uZWA7CiAgICB9CiAgfQoKICAvLyBBbGwgZG9uZS4KICB5aWVsZCB7CiAgICByZXNwb25zZTogewogICAgICBhY3Rpb246ICdjb21wbGV0ZScsCiAgICB9CiAgfTsKfQoKc2NvcGUuZ29vZ2xlID0gc2NvcGUuZ29vZ2xlIHx8IHt9OwpzY29wZS5nb29nbGUuY29sYWIgPSBzY29wZS5nb29nbGUuY29sYWIgfHwge307CnNjb3BlLmdvb2dsZS5jb2xhYi5fZmlsZXMgPSB7CiAgX3VwbG9hZEZpbGVzLAogIF91cGxvYWRGaWxlc0NvbnRpbnVlLAp9Owp9KShzZWxmKTsK",
              "ok": true,
              "headers": [
                [
                  "content-type",
                  "application/javascript"
                ]
              ],
              "status": 200,
              "status_text": ""
            }
          },
          "base_uri": "https://localhost:8080/",
          "height": 531
        },
        "id": "rtgcdv8vuxKc",
        "outputId": "097a9cc7-638e-4ec3-d980-0017644b2769"
      },
      "source": [
        "from google.colab import files\n",
        "uploaded = files.upload()\n",
        "import pandas as pd\n",
        "import numpy as np\n",
        "df_car_price=pd.read_csv(\"CarPrice_Assignment.csv\")\n",
        "df_car_price.isnull().sum()"
      ],
      "execution_count": 1,
      "outputs": [
        {
          "output_type": "display_data",
          "data": {
            "text/html": [
              "\n",
              "     <input type=\"file\" id=\"files-e0f8cc69-2c49-4735-9d47-dde8a6db0285\" name=\"files[]\" multiple disabled\n",
              "        style=\"border:none\" />\n",
              "     <output id=\"result-e0f8cc69-2c49-4735-9d47-dde8a6db0285\">\n",
              "      Upload widget is only available when the cell has been executed in the\n",
              "      current browser session. Please rerun this cell to enable.\n",
              "      </output>\n",
              "      <script src=\"/nbextensions/google.colab/files.js\"></script> "
            ],
            "text/plain": [
              "<IPython.core.display.HTML object>"
            ]
          },
          "metadata": {
            "tags": []
          }
        },
        {
          "output_type": "stream",
          "text": [
            "Saving CarPrice_Assignment.csv to CarPrice_Assignment.csv\n"
          ],
          "name": "stdout"
        },
        {
          "output_type": "execute_result",
          "data": {
            "text/plain": [
              "car_ID              0\n",
              "symboling           0\n",
              "CarName             0\n",
              "fueltype            0\n",
              "aspiration          0\n",
              "doornumber          0\n",
              "carbody             0\n",
              "drivewheel          0\n",
              "enginelocation      0\n",
              "wheelbase           0\n",
              "carlength           0\n",
              "carwidth            0\n",
              "carheight           0\n",
              "curbweight          0\n",
              "enginetype          0\n",
              "cylindernumber      0\n",
              "enginesize          0\n",
              "fuelsystem          0\n",
              "boreratio           0\n",
              "stroke              0\n",
              "compressionratio    0\n",
              "horsepower          0\n",
              "peakrpm             0\n",
              "citympg             0\n",
              "highwaympg          0\n",
              "price               0\n",
              "dtype: int64"
            ]
          },
          "metadata": {
            "tags": []
          },
          "execution_count": 1
        }
      ]
    },
    {
      "cell_type": "code",
      "metadata": {
        "id": "qlzA2Hv7uxKe"
      },
      "source": [
        "df_car_price_X=df_car_price[[\"symboling\",\"carheight\",\"enginesize\",\"wheelbase\",\t\"carlength\",\"carwidth\",\t\"carheight\",\t\"curbweight\",\"enginesize\"\t,\t\"boreratio\",\t\"stroke\",\t\"compressionratio\",\t\"horsepower\",\t\"peakrpm\",\t\"citympg\",\t\"highwaympg\"]]\n",
        "df_car_price_Y=df_car_price[\"price\"]\n",
        "\n",
        "train_X,train_Y = df_car_price_X.iloc[:102],df_car_price_Y.iloc[:102]\n",
        "train_X=(train_X-train_X.mean())/train_X.std()\n",
        "train_Y=(train_Y-train_Y.mean())/train_Y.std()\n",
        "\n",
        "validate_X, validate_Y =df_car_price_X.iloc[102:163],df_car_price_Y.iloc[102:163]\n",
        "validate_X=(validate_X-train_X.mean())/train_X.std()\n",
        "validate_Y=(validate_Y-train_Y.mean())/train_Y.std()\n",
        "\n",
        "test_X, test_Y = df_car_price_X.iloc[163:],df_car_price_Y.iloc[163:]\n",
        "test_X=(test_X-train_X.mean())/train_X.std()\n",
        "test_Y=(test_Y-train_Y.mean())/train_Y.std()\n",
        "\n"
      ],
      "execution_count": 2,
      "outputs": []
    },
    {
      "cell_type": "code",
      "metadata": {
        "colab": {
          "base_uri": "https://localhost:8080/"
        },
        "id": "39mj8O9RuxKf",
        "outputId": "015d14ca-4bd2-4f57-9e43-66c0fdbd0c09"
      },
      "source": [
        "from tensorflow.keras.models import Sequential\n",
        "from tensorflow.keras.layers import Dense\n",
        "from tensorflow.keras.optimizers import Adam,SGD\n",
        "\n",
        "model = Sequential()\n",
        "model.add(Dense(10, input_shape = (train_X.shape[1],), activation='relu'))\n",
        "model.add(Dense(8, activation='relu'))\n",
        "model.add(Dense(6, activation='relu'))\n",
        "model.add(Dense(1))\n",
        "\n",
        "model.summary()\n"
      ],
      "execution_count": 3,
      "outputs": [
        {
          "output_type": "stream",
          "text": [
            "Model: \"sequential\"\n",
            "_________________________________________________________________\n",
            "Layer (type)                 Output Shape              Param #   \n",
            "=================================================================\n",
            "dense (Dense)                (None, 10)                170       \n",
            "_________________________________________________________________\n",
            "dense_1 (Dense)              (None, 8)                 88        \n",
            "_________________________________________________________________\n",
            "dense_2 (Dense)              (None, 6)                 54        \n",
            "_________________________________________________________________\n",
            "dense_3 (Dense)              (None, 1)                 7         \n",
            "=================================================================\n",
            "Total params: 319\n",
            "Trainable params: 319\n",
            "Non-trainable params: 0\n",
            "_________________________________________________________________\n"
          ],
          "name": "stdout"
        }
      ]
    },
    {
      "cell_type": "code",
      "metadata": {
        "colab": {
          "base_uri": "https://localhost:8080/"
        },
        "id": "9vilXSHfuxKg",
        "outputId": "497943fe-494a-491e-b8aa-03a5d4e04b5e"
      },
      "source": [
        "import tensorflow as tf\n",
        "model.compile(loss='mean_squared_error', optimizer=\"rmsprop\",metrics = (\"accuracy\"))\n",
        "price=model.fit(train_X, train_Y, \n",
        "\tvalidation_data=(validate_X, validate_Y),\n",
        "\tepochs=100, batch_size=1)"
      ],
      "execution_count": 4,
      "outputs": [
        {
          "output_type": "stream",
          "text": [
            "Epoch 1/100\n",
            "102/102 [==============================] - 2s 7ms/step - loss: 0.5922 - accuracy: 0.0000e+00 - val_loss: 231635216.0000 - val_accuracy: 0.0000e+00\n",
            "Epoch 2/100\n",
            "102/102 [==============================] - 0s 2ms/step - loss: 0.4653 - accuracy: 0.0000e+00 - val_loss: 230159616.0000 - val_accuracy: 0.0000e+00\n",
            "Epoch 3/100\n",
            "102/102 [==============================] - 0s 2ms/step - loss: 0.1810 - accuracy: 0.0000e+00 - val_loss: 227480800.0000 - val_accuracy: 0.0000e+00\n",
            "Epoch 4/100\n",
            "102/102 [==============================] - 0s 2ms/step - loss: 0.1177 - accuracy: 0.0000e+00 - val_loss: 224989936.0000 - val_accuracy: 0.0000e+00\n",
            "Epoch 5/100\n",
            "102/102 [==============================] - 0s 2ms/step - loss: 0.0890 - accuracy: 0.0000e+00 - val_loss: 222500496.0000 - val_accuracy: 0.0000e+00\n",
            "Epoch 6/100\n",
            "102/102 [==============================] - 0s 2ms/step - loss: 0.0965 - accuracy: 0.0000e+00 - val_loss: 220735872.0000 - val_accuracy: 0.0000e+00\n",
            "Epoch 7/100\n",
            "102/102 [==============================] - 0s 2ms/step - loss: 0.1144 - accuracy: 0.0000e+00 - val_loss: 218600400.0000 - val_accuracy: 0.0000e+00\n",
            "Epoch 8/100\n",
            "102/102 [==============================] - 0s 2ms/step - loss: 0.0756 - accuracy: 0.0000e+00 - val_loss: 217796592.0000 - val_accuracy: 0.0000e+00\n",
            "Epoch 9/100\n",
            "102/102 [==============================] - 0s 2ms/step - loss: 0.0591 - accuracy: 0.0000e+00 - val_loss: 217517200.0000 - val_accuracy: 0.0000e+00\n",
            "Epoch 10/100\n",
            "102/102 [==============================] - 0s 2ms/step - loss: 0.0510 - accuracy: 0.0000e+00 - val_loss: 217548592.0000 - val_accuracy: 0.0000e+00\n",
            "Epoch 11/100\n",
            "102/102 [==============================] - 0s 2ms/step - loss: 0.0716 - accuracy: 0.0000e+00 - val_loss: 217450240.0000 - val_accuracy: 0.0000e+00\n",
            "Epoch 12/100\n",
            "102/102 [==============================] - 0s 2ms/step - loss: 0.0665 - accuracy: 0.0000e+00 - val_loss: 217914928.0000 - val_accuracy: 0.0000e+00\n",
            "Epoch 13/100\n",
            "102/102 [==============================] - 0s 2ms/step - loss: 0.0619 - accuracy: 0.0000e+00 - val_loss: 218843904.0000 - val_accuracy: 0.0000e+00\n",
            "Epoch 14/100\n",
            "102/102 [==============================] - 0s 2ms/step - loss: 0.0744 - accuracy: 0.0000e+00 - val_loss: 218931120.0000 - val_accuracy: 0.0000e+00\n",
            "Epoch 15/100\n",
            "102/102 [==============================] - 0s 2ms/step - loss: 0.0505 - accuracy: 0.0000e+00 - val_loss: 218971408.0000 - val_accuracy: 0.0000e+00\n",
            "Epoch 16/100\n",
            "102/102 [==============================] - 0s 2ms/step - loss: 0.0734 - accuracy: 0.0000e+00 - val_loss: 220261232.0000 - val_accuracy: 0.0000e+00\n",
            "Epoch 17/100\n",
            "102/102 [==============================] - 0s 2ms/step - loss: 0.0584 - accuracy: 0.0000e+00 - val_loss: 220954736.0000 - val_accuracy: 0.0000e+00\n",
            "Epoch 18/100\n",
            "102/102 [==============================] - 0s 2ms/step - loss: 0.1246 - accuracy: 0.0000e+00 - val_loss: 220005584.0000 - val_accuracy: 0.0000e+00\n",
            "Epoch 19/100\n",
            "102/102 [==============================] - 0s 2ms/step - loss: 0.0840 - accuracy: 0.0000e+00 - val_loss: 219096896.0000 - val_accuracy: 0.0000e+00\n",
            "Epoch 20/100\n",
            "102/102 [==============================] - 0s 2ms/step - loss: 0.0840 - accuracy: 0.0000e+00 - val_loss: 220035984.0000 - val_accuracy: 0.0000e+00\n",
            "Epoch 21/100\n",
            "102/102 [==============================] - 0s 2ms/step - loss: 0.0754 - accuracy: 0.0000e+00 - val_loss: 220780496.0000 - val_accuracy: 0.0000e+00\n",
            "Epoch 22/100\n",
            "102/102 [==============================] - 0s 2ms/step - loss: 0.1089 - accuracy: 0.0000e+00 - val_loss: 220957648.0000 - val_accuracy: 0.0000e+00\n",
            "Epoch 23/100\n",
            "102/102 [==============================] - 0s 2ms/step - loss: 0.1010 - accuracy: 0.0000e+00 - val_loss: 220341392.0000 - val_accuracy: 0.0000e+00\n",
            "Epoch 24/100\n",
            "102/102 [==============================] - 0s 2ms/step - loss: 0.0384 - accuracy: 0.0000e+00 - val_loss: 219958688.0000 - val_accuracy: 0.0000e+00\n",
            "Epoch 25/100\n",
            "102/102 [==============================] - 0s 2ms/step - loss: 0.0722 - accuracy: 0.0000e+00 - val_loss: 220605872.0000 - val_accuracy: 0.0000e+00\n",
            "Epoch 26/100\n",
            "102/102 [==============================] - 0s 2ms/step - loss: 0.0529 - accuracy: 0.0000e+00 - val_loss: 220866960.0000 - val_accuracy: 0.0000e+00\n",
            "Epoch 27/100\n",
            "102/102 [==============================] - 0s 2ms/step - loss: 0.0606 - accuracy: 0.0000e+00 - val_loss: 221319280.0000 - val_accuracy: 0.0000e+00\n",
            "Epoch 28/100\n",
            "102/102 [==============================] - 0s 2ms/step - loss: 0.0677 - accuracy: 0.0000e+00 - val_loss: 221215808.0000 - val_accuracy: 0.0000e+00\n",
            "Epoch 29/100\n",
            "102/102 [==============================] - 0s 2ms/step - loss: 0.0377 - accuracy: 0.0000e+00 - val_loss: 220831648.0000 - val_accuracy: 0.0000e+00\n",
            "Epoch 30/100\n",
            "102/102 [==============================] - 0s 2ms/step - loss: 0.0415 - accuracy: 0.0000e+00 - val_loss: 221868768.0000 - val_accuracy: 0.0000e+00\n",
            "Epoch 31/100\n",
            "102/102 [==============================] - 0s 2ms/step - loss: 0.0484 - accuracy: 0.0000e+00 - val_loss: 221651664.0000 - val_accuracy: 0.0000e+00\n",
            "Epoch 32/100\n",
            "102/102 [==============================] - 0s 2ms/step - loss: 0.1305 - accuracy: 0.0000e+00 - val_loss: 221627888.0000 - val_accuracy: 0.0000e+00\n",
            "Epoch 33/100\n",
            "102/102 [==============================] - 0s 2ms/step - loss: 0.0602 - accuracy: 0.0000e+00 - val_loss: 220848368.0000 - val_accuracy: 0.0000e+00\n",
            "Epoch 34/100\n",
            "102/102 [==============================] - 0s 2ms/step - loss: 0.0419 - accuracy: 0.0000e+00 - val_loss: 219553536.0000 - val_accuracy: 0.0000e+00\n",
            "Epoch 35/100\n",
            "102/102 [==============================] - 0s 2ms/step - loss: 0.0618 - accuracy: 0.0000e+00 - val_loss: 219800368.0000 - val_accuracy: 0.0000e+00\n",
            "Epoch 36/100\n",
            "102/102 [==============================] - 0s 2ms/step - loss: 0.0359 - accuracy: 0.0000e+00 - val_loss: 221067584.0000 - val_accuracy: 0.0000e+00\n",
            "Epoch 37/100\n",
            "102/102 [==============================] - 0s 2ms/step - loss: 0.0830 - accuracy: 0.0000e+00 - val_loss: 220446064.0000 - val_accuracy: 0.0000e+00\n",
            "Epoch 38/100\n",
            "102/102 [==============================] - 0s 2ms/step - loss: 0.0951 - accuracy: 0.0000e+00 - val_loss: 220806608.0000 - val_accuracy: 0.0000e+00\n",
            "Epoch 39/100\n",
            "102/102 [==============================] - 0s 2ms/step - loss: 0.0564 - accuracy: 0.0000e+00 - val_loss: 221186368.0000 - val_accuracy: 0.0000e+00\n",
            "Epoch 40/100\n",
            "102/102 [==============================] - 0s 2ms/step - loss: 0.0586 - accuracy: 0.0000e+00 - val_loss: 220695520.0000 - val_accuracy: 0.0000e+00\n",
            "Epoch 41/100\n",
            "102/102 [==============================] - 0s 2ms/step - loss: 0.0729 - accuracy: 0.0000e+00 - val_loss: 220863984.0000 - val_accuracy: 0.0000e+00\n",
            "Epoch 42/100\n",
            "102/102 [==============================] - 0s 2ms/step - loss: 0.0490 - accuracy: 0.0000e+00 - val_loss: 220580192.0000 - val_accuracy: 0.0000e+00\n",
            "Epoch 43/100\n",
            "102/102 [==============================] - 0s 2ms/step - loss: 0.0350 - accuracy: 0.0000e+00 - val_loss: 220903536.0000 - val_accuracy: 0.0000e+00\n",
            "Epoch 44/100\n",
            "102/102 [==============================] - 0s 2ms/step - loss: 0.0495 - accuracy: 0.0000e+00 - val_loss: 221265904.0000 - val_accuracy: 0.0000e+00\n",
            "Epoch 45/100\n",
            "102/102 [==============================] - 0s 2ms/step - loss: 0.0374 - accuracy: 0.0000e+00 - val_loss: 219790144.0000 - val_accuracy: 0.0000e+00\n",
            "Epoch 46/100\n",
            "102/102 [==============================] - 0s 2ms/step - loss: 0.0581 - accuracy: 0.0000e+00 - val_loss: 219528064.0000 - val_accuracy: 0.0000e+00\n",
            "Epoch 47/100\n",
            "102/102 [==============================] - 0s 2ms/step - loss: 0.0306 - accuracy: 0.0000e+00 - val_loss: 220858928.0000 - val_accuracy: 0.0000e+00\n",
            "Epoch 48/100\n",
            "102/102 [==============================] - 0s 2ms/step - loss: 0.0547 - accuracy: 0.0000e+00 - val_loss: 220417104.0000 - val_accuracy: 0.0000e+00\n",
            "Epoch 49/100\n",
            "102/102 [==============================] - 0s 2ms/step - loss: 0.0386 - accuracy: 0.0000e+00 - val_loss: 221506336.0000 - val_accuracy: 0.0000e+00\n",
            "Epoch 50/100\n",
            "102/102 [==============================] - 0s 2ms/step - loss: 0.0566 - accuracy: 0.0000e+00 - val_loss: 220118272.0000 - val_accuracy: 0.0000e+00\n",
            "Epoch 51/100\n",
            "102/102 [==============================] - 0s 2ms/step - loss: 0.0605 - accuracy: 0.0000e+00 - val_loss: 220663408.0000 - val_accuracy: 0.0000e+00\n",
            "Epoch 52/100\n",
            "102/102 [==============================] - 0s 2ms/step - loss: 0.0337 - accuracy: 0.0000e+00 - val_loss: 221036192.0000 - val_accuracy: 0.0000e+00\n",
            "Epoch 53/100\n",
            "102/102 [==============================] - 0s 2ms/step - loss: 0.0733 - accuracy: 0.0000e+00 - val_loss: 219308704.0000 - val_accuracy: 0.0000e+00\n",
            "Epoch 54/100\n",
            "102/102 [==============================] - 0s 2ms/step - loss: 0.0401 - accuracy: 0.0000e+00 - val_loss: 220605664.0000 - val_accuracy: 0.0000e+00\n",
            "Epoch 55/100\n",
            "102/102 [==============================] - 0s 2ms/step - loss: 0.0272 - accuracy: 0.0000e+00 - val_loss: 219752880.0000 - val_accuracy: 0.0000e+00\n",
            "Epoch 56/100\n",
            "102/102 [==============================] - 0s 2ms/step - loss: 0.0268 - accuracy: 0.0000e+00 - val_loss: 221654160.0000 - val_accuracy: 0.0000e+00\n",
            "Epoch 57/100\n",
            "102/102 [==============================] - 0s 2ms/step - loss: 0.0770 - accuracy: 0.0000e+00 - val_loss: 221686944.0000 - val_accuracy: 0.0000e+00\n",
            "Epoch 58/100\n",
            "102/102 [==============================] - 0s 2ms/step - loss: 0.0240 - accuracy: 0.0000e+00 - val_loss: 221061040.0000 - val_accuracy: 0.0000e+00\n",
            "Epoch 59/100\n",
            "102/102 [==============================] - 0s 2ms/step - loss: 0.0409 - accuracy: 0.0000e+00 - val_loss: 219781520.0000 - val_accuracy: 0.0000e+00\n",
            "Epoch 60/100\n",
            "102/102 [==============================] - 0s 2ms/step - loss: 0.0284 - accuracy: 0.0000e+00 - val_loss: 221775776.0000 - val_accuracy: 0.0000e+00\n",
            "Epoch 61/100\n",
            "102/102 [==============================] - 0s 2ms/step - loss: 0.0395 - accuracy: 0.0000e+00 - val_loss: 221199168.0000 - val_accuracy: 0.0000e+00\n",
            "Epoch 62/100\n",
            "102/102 [==============================] - 0s 2ms/step - loss: 0.0563 - accuracy: 0.0000e+00 - val_loss: 220290992.0000 - val_accuracy: 0.0000e+00\n",
            "Epoch 63/100\n",
            "102/102 [==============================] - 0s 2ms/step - loss: 0.0283 - accuracy: 0.0000e+00 - val_loss: 221919952.0000 - val_accuracy: 0.0000e+00\n",
            "Epoch 64/100\n",
            "102/102 [==============================] - 0s 2ms/step - loss: 0.0411 - accuracy: 0.0000e+00 - val_loss: 220793360.0000 - val_accuracy: 0.0000e+00\n",
            "Epoch 65/100\n",
            "102/102 [==============================] - 0s 2ms/step - loss: 0.0486 - accuracy: 0.0000e+00 - val_loss: 223114720.0000 - val_accuracy: 0.0000e+00\n",
            "Epoch 66/100\n",
            "102/102 [==============================] - 0s 2ms/step - loss: 0.0500 - accuracy: 0.0000e+00 - val_loss: 222145920.0000 - val_accuracy: 0.0000e+00\n",
            "Epoch 67/100\n",
            "102/102 [==============================] - 0s 2ms/step - loss: 0.0246 - accuracy: 0.0000e+00 - val_loss: 222397648.0000 - val_accuracy: 0.0000e+00\n",
            "Epoch 68/100\n",
            "102/102 [==============================] - 0s 2ms/step - loss: 0.0416 - accuracy: 0.0000e+00 - val_loss: 223260640.0000 - val_accuracy: 0.0000e+00\n",
            "Epoch 69/100\n",
            "102/102 [==============================] - 0s 2ms/step - loss: 0.0253 - accuracy: 0.0000e+00 - val_loss: 223246496.0000 - val_accuracy: 0.0000e+00\n",
            "Epoch 70/100\n",
            "102/102 [==============================] - 0s 2ms/step - loss: 0.0281 - accuracy: 0.0000e+00 - val_loss: 223936160.0000 - val_accuracy: 0.0000e+00\n",
            "Epoch 71/100\n",
            "102/102 [==============================] - 0s 2ms/step - loss: 0.0523 - accuracy: 0.0000e+00 - val_loss: 222646384.0000 - val_accuracy: 0.0000e+00\n",
            "Epoch 72/100\n",
            "102/102 [==============================] - 0s 2ms/step - loss: 0.0412 - accuracy: 0.0000e+00 - val_loss: 222625440.0000 - val_accuracy: 0.0000e+00\n",
            "Epoch 73/100\n",
            "102/102 [==============================] - 0s 2ms/step - loss: 0.0393 - accuracy: 0.0000e+00 - val_loss: 223757776.0000 - val_accuracy: 0.0000e+00\n",
            "Epoch 74/100\n",
            "102/102 [==============================] - 0s 2ms/step - loss: 0.0333 - accuracy: 0.0000e+00 - val_loss: 223860784.0000 - val_accuracy: 0.0000e+00\n",
            "Epoch 75/100\n",
            "102/102 [==============================] - 0s 2ms/step - loss: 0.0247 - accuracy: 0.0000e+00 - val_loss: 223011648.0000 - val_accuracy: 0.0000e+00\n",
            "Epoch 76/100\n",
            "102/102 [==============================] - 0s 2ms/step - loss: 0.0429 - accuracy: 0.0000e+00 - val_loss: 223514592.0000 - val_accuracy: 0.0000e+00\n",
            "Epoch 77/100\n",
            "102/102 [==============================] - 0s 2ms/step - loss: 0.0212 - accuracy: 0.0000e+00 - val_loss: 223358544.0000 - val_accuracy: 0.0000e+00\n",
            "Epoch 78/100\n",
            "102/102 [==============================] - 0s 2ms/step - loss: 0.0366 - accuracy: 0.0000e+00 - val_loss: 223652288.0000 - val_accuracy: 0.0000e+00\n",
            "Epoch 79/100\n",
            "102/102 [==============================] - 0s 2ms/step - loss: 0.0289 - accuracy: 0.0000e+00 - val_loss: 224183200.0000 - val_accuracy: 0.0000e+00\n",
            "Epoch 80/100\n",
            "102/102 [==============================] - 0s 2ms/step - loss: 0.0419 - accuracy: 0.0000e+00 - val_loss: 222111088.0000 - val_accuracy: 0.0000e+00\n",
            "Epoch 81/100\n",
            "102/102 [==============================] - 0s 2ms/step - loss: 0.0409 - accuracy: 0.0000e+00 - val_loss: 222400176.0000 - val_accuracy: 0.0000e+00\n",
            "Epoch 82/100\n",
            "102/102 [==============================] - 0s 2ms/step - loss: 0.0330 - accuracy: 0.0000e+00 - val_loss: 222855552.0000 - val_accuracy: 0.0000e+00\n",
            "Epoch 83/100\n",
            "102/102 [==============================] - 0s 2ms/step - loss: 0.0304 - accuracy: 0.0000e+00 - val_loss: 223085648.0000 - val_accuracy: 0.0000e+00\n",
            "Epoch 84/100\n",
            "102/102 [==============================] - 0s 2ms/step - loss: 0.0633 - accuracy: 0.0000e+00 - val_loss: 221687648.0000 - val_accuracy: 0.0000e+00\n",
            "Epoch 85/100\n",
            "102/102 [==============================] - 0s 2ms/step - loss: 0.0176 - accuracy: 0.0000e+00 - val_loss: 220864064.0000 - val_accuracy: 0.0000e+00\n",
            "Epoch 86/100\n",
            "102/102 [==============================] - 0s 2ms/step - loss: 0.0251 - accuracy: 0.0000e+00 - val_loss: 221405632.0000 - val_accuracy: 0.0000e+00\n",
            "Epoch 87/100\n",
            "102/102 [==============================] - 0s 2ms/step - loss: 0.0504 - accuracy: 0.0000e+00 - val_loss: 221617408.0000 - val_accuracy: 0.0000e+00\n",
            "Epoch 88/100\n",
            "102/102 [==============================] - 0s 2ms/step - loss: 0.0234 - accuracy: 0.0000e+00 - val_loss: 221793472.0000 - val_accuracy: 0.0000e+00\n",
            "Epoch 89/100\n",
            "102/102 [==============================] - 0s 2ms/step - loss: 0.0304 - accuracy: 0.0000e+00 - val_loss: 222307952.0000 - val_accuracy: 0.0000e+00\n",
            "Epoch 90/100\n",
            "102/102 [==============================] - 0s 2ms/step - loss: 0.0217 - accuracy: 0.0000e+00 - val_loss: 221809264.0000 - val_accuracy: 0.0000e+00\n",
            "Epoch 91/100\n",
            "102/102 [==============================] - 0s 2ms/step - loss: 0.0270 - accuracy: 0.0000e+00 - val_loss: 222813936.0000 - val_accuracy: 0.0000e+00\n",
            "Epoch 92/100\n",
            "102/102 [==============================] - 0s 2ms/step - loss: 0.0195 - accuracy: 0.0000e+00 - val_loss: 221805248.0000 - val_accuracy: 0.0000e+00\n",
            "Epoch 93/100\n",
            "102/102 [==============================] - 0s 2ms/step - loss: 0.0391 - accuracy: 0.0000e+00 - val_loss: 220392832.0000 - val_accuracy: 0.0000e+00\n",
            "Epoch 94/100\n",
            "102/102 [==============================] - 0s 2ms/step - loss: 0.0209 - accuracy: 0.0000e+00 - val_loss: 221212944.0000 - val_accuracy: 0.0000e+00\n",
            "Epoch 95/100\n",
            "102/102 [==============================] - 0s 2ms/step - loss: 0.0515 - accuracy: 0.0000e+00 - val_loss: 220600448.0000 - val_accuracy: 0.0000e+00\n",
            "Epoch 96/100\n",
            "102/102 [==============================] - 0s 2ms/step - loss: 0.0619 - accuracy: 0.0000e+00 - val_loss: 220800320.0000 - val_accuracy: 0.0000e+00\n",
            "Epoch 97/100\n",
            "102/102 [==============================] - 0s 2ms/step - loss: 0.0212 - accuracy: 0.0000e+00 - val_loss: 220617760.0000 - val_accuracy: 0.0000e+00\n",
            "Epoch 98/100\n",
            "102/102 [==============================] - 0s 2ms/step - loss: 0.0538 - accuracy: 0.0000e+00 - val_loss: 219976736.0000 - val_accuracy: 0.0000e+00\n",
            "Epoch 99/100\n",
            "102/102 [==============================] - 0s 2ms/step - loss: 0.0237 - accuracy: 0.0000e+00 - val_loss: 219813552.0000 - val_accuracy: 0.0000e+00\n",
            "Epoch 100/100\n",
            "102/102 [==============================] - 0s 2ms/step - loss: 0.0290 - accuracy: 0.0000e+00 - val_loss: 217179472.0000 - val_accuracy: 0.0000e+00\n"
          ],
          "name": "stdout"
        }
      ]
    },
    {
      "cell_type": "code",
      "metadata": {
        "colab": {
          "base_uri": "https://localhost:8080/"
        },
        "id": "uy2e9VIMuxKg",
        "outputId": "14dbff8e-bb08-4562-9d64-aa0d070f0e8e"
      },
      "source": [
        "price.history.keys()\n"
      ],
      "execution_count": 5,
      "outputs": [
        {
          "output_type": "execute_result",
          "data": {
            "text/plain": [
              "dict_keys(['loss', 'accuracy', 'val_loss', 'val_accuracy'])"
            ]
          },
          "metadata": {
            "tags": []
          },
          "execution_count": 5
        }
      ]
    },
    {
      "cell_type": "code",
      "metadata": {
        "colab": {
          "base_uri": "https://localhost:8080/",
          "height": 419
        },
        "id": "Dtywqx0nuxKg",
        "outputId": "18847cf4-e42b-405a-ea4e-f71aa37d1278"
      },
      "source": [
        "e= price.history\n",
        "ef=pd.DataFrame(e)\n",
        "ef"
      ],
      "execution_count": 6,
      "outputs": [
        {
          "output_type": "execute_result",
          "data": {
            "text/html": [
              "<div>\n",
              "<style scoped>\n",
              "    .dataframe tbody tr th:only-of-type {\n",
              "        vertical-align: middle;\n",
              "    }\n",
              "\n",
              "    .dataframe tbody tr th {\n",
              "        vertical-align: top;\n",
              "    }\n",
              "\n",
              "    .dataframe thead th {\n",
              "        text-align: right;\n",
              "    }\n",
              "</style>\n",
              "<table border=\"1\" class=\"dataframe\">\n",
              "  <thead>\n",
              "    <tr style=\"text-align: right;\">\n",
              "      <th></th>\n",
              "      <th>loss</th>\n",
              "      <th>accuracy</th>\n",
              "      <th>val_loss</th>\n",
              "      <th>val_accuracy</th>\n",
              "    </tr>\n",
              "  </thead>\n",
              "  <tbody>\n",
              "    <tr>\n",
              "      <th>0</th>\n",
              "      <td>0.633390</td>\n",
              "      <td>0.0</td>\n",
              "      <td>231635216.0</td>\n",
              "      <td>0.0</td>\n",
              "    </tr>\n",
              "    <tr>\n",
              "      <th>1</th>\n",
              "      <td>0.372575</td>\n",
              "      <td>0.0</td>\n",
              "      <td>230159616.0</td>\n",
              "      <td>0.0</td>\n",
              "    </tr>\n",
              "    <tr>\n",
              "      <th>2</th>\n",
              "      <td>0.194383</td>\n",
              "      <td>0.0</td>\n",
              "      <td>227480800.0</td>\n",
              "      <td>0.0</td>\n",
              "    </tr>\n",
              "    <tr>\n",
              "      <th>3</th>\n",
              "      <td>0.124153</td>\n",
              "      <td>0.0</td>\n",
              "      <td>224989936.0</td>\n",
              "      <td>0.0</td>\n",
              "    </tr>\n",
              "    <tr>\n",
              "      <th>4</th>\n",
              "      <td>0.111360</td>\n",
              "      <td>0.0</td>\n",
              "      <td>222500496.0</td>\n",
              "      <td>0.0</td>\n",
              "    </tr>\n",
              "    <tr>\n",
              "      <th>...</th>\n",
              "      <td>...</td>\n",
              "      <td>...</td>\n",
              "      <td>...</td>\n",
              "      <td>...</td>\n",
              "    </tr>\n",
              "    <tr>\n",
              "      <th>95</th>\n",
              "      <td>0.038032</td>\n",
              "      <td>0.0</td>\n",
              "      <td>220800320.0</td>\n",
              "      <td>0.0</td>\n",
              "    </tr>\n",
              "    <tr>\n",
              "      <th>96</th>\n",
              "      <td>0.038089</td>\n",
              "      <td>0.0</td>\n",
              "      <td>220617760.0</td>\n",
              "      <td>0.0</td>\n",
              "    </tr>\n",
              "    <tr>\n",
              "      <th>97</th>\n",
              "      <td>0.038131</td>\n",
              "      <td>0.0</td>\n",
              "      <td>219976736.0</td>\n",
              "      <td>0.0</td>\n",
              "    </tr>\n",
              "    <tr>\n",
              "      <th>98</th>\n",
              "      <td>0.039724</td>\n",
              "      <td>0.0</td>\n",
              "      <td>219813552.0</td>\n",
              "      <td>0.0</td>\n",
              "    </tr>\n",
              "    <tr>\n",
              "      <th>99</th>\n",
              "      <td>0.034941</td>\n",
              "      <td>0.0</td>\n",
              "      <td>217179472.0</td>\n",
              "      <td>0.0</td>\n",
              "    </tr>\n",
              "  </tbody>\n",
              "</table>\n",
              "<p>100 rows × 4 columns</p>\n",
              "</div>"
            ],
            "text/plain": [
              "        loss  accuracy     val_loss  val_accuracy\n",
              "0   0.633390       0.0  231635216.0           0.0\n",
              "1   0.372575       0.0  230159616.0           0.0\n",
              "2   0.194383       0.0  227480800.0           0.0\n",
              "3   0.124153       0.0  224989936.0           0.0\n",
              "4   0.111360       0.0  222500496.0           0.0\n",
              "..       ...       ...          ...           ...\n",
              "95  0.038032       0.0  220800320.0           0.0\n",
              "96  0.038089       0.0  220617760.0           0.0\n",
              "97  0.038131       0.0  219976736.0           0.0\n",
              "98  0.039724       0.0  219813552.0           0.0\n",
              "99  0.034941       0.0  217179472.0           0.0\n",
              "\n",
              "[100 rows x 4 columns]"
            ]
          },
          "metadata": {
            "tags": []
          },
          "execution_count": 6
        }
      ]
    },
    {
      "cell_type": "code",
      "metadata": {
        "colab": {
          "base_uri": "https://localhost:8080/",
          "height": 293
        },
        "id": "Jgugej6gfbUk",
        "outputId": "ab6bf35d-2a8d-4b87-b23b-b2b50dff05b4"
      },
      "source": [
        "ef.plot( y = ['loss', 'val_loss'])"
      ],
      "execution_count": 7,
      "outputs": [
        {
          "output_type": "execute_result",
          "data": {
            "text/plain": [
              "<matplotlib.axes._subplots.AxesSubplot at 0x7fe191534b50>"
            ]
          },
          "metadata": {
            "tags": []
          },
          "execution_count": 7
        },
        {
          "output_type": "display_data",
          "data": {
            "image/png": "[encoded data removed]",
            "text/plain": [
              "<Figure size 432x288 with 1 Axes>"
            ]
          },
          "metadata": {
            "tags": [],
            "needs_background": "light"
          }
        }
      ]
    },
    {
      "cell_type": "code",
      "metadata": {
        "colab": {
          "base_uri": "https://localhost:8080/",
          "height": 282
        },
        "id": "DfJPVef6ftET",
        "outputId": "e7025eef-24ed-4c47-eabf-7f94018d7b0a"
      },
      "source": [
        "import matplotlib.pyplot as plt\n",
        "\n",
        "model.evaluate(test_X,test_Y)\n",
        "plt.plot(test_Y)\n",
        "plt.ylabel('graph')\n",
        "plt.show()"
      ],
      "execution_count": 8,
      "outputs": [
        {
          "output_type": "stream",
          "text": [
            "2/2 [==============================] - 0s 8ms/step - loss: 188675680.0000 - accuracy: 0.0000e+00\n"
          ],
          "name": "stdout"
        },
        {
          "output_type": "display_data",
          "data": {
            "image/png": "[encoded data removed]",
            "text/plain": [
              "<Figure size 432x288 with 1 Axes>"
            ]
          },
          "metadata": {
            "tags": [],
            "needs_background": "light"
          }
        }
      ]
    },
    {
      "cell_type": "code",
      "metadata": {
        "id": "YSlSUlEtsT2F",
        "colab": {
          "base_uri": "https://localhost:8080/",
          "height": 268
        },
        "outputId": "cc703629-931e-4629-8ee0-2e6ec804afa1"
      },
      "source": [
        "plt.plot(model.predict(test_X))\n",
        "plt.show()"
      ],
      "execution_count": 10,
      "outputs": [
        {
          "output_type": "display_data",
          "data": {
            "image/png": "[encoded data removed]",
            "text/plain": [
              "<Figure size 432x288 with 1 Axes>"
            ]
          },
          "metadata": {
            "tags": [],
            "needs_background": "light"
          }
        }
      ]
    }
  ]
}