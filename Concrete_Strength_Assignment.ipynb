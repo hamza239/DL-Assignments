{
  "nbformat": 4,
  "nbformat_minor": 0,
  "metadata": {
    "kernelspec": {
      "display_name": "Python 3",
      "language": "python",
      "name": "python3"
    },
    "language_info": {
      "codemirror_mode": {
        "name": "ipython",
        "version": 3
      },
      "file_extension": ".py",
      "mimetype": "text/x-python",
      "name": "python",
      "nbconvert_exporter": "python",
      "pygments_lexer": "ipython3",
      "version": "3.7.3"
    },
    "colab": {
      "name": "Concrete Strength Assignment.ipynb",
      "provenance": [],
      "collapsed_sections": []
    }
  },
  "cells": [
    {
      "cell_type": "markdown",
      "metadata": {
        "id": "ieGvsgVnYGLQ"
      },
      "source": [
        "# Assignment: Compresive Strength Concrete Problem\n",
        "\n",
        "\n",
        "### Abstract: \n",
        "\n",
        "Concrete is the most important material in civil engineering. The concrete compressive strength (concrete strength to bear the load) is a highly nonlinear function of age and ingredients.  <br><br>\n",
        "\n",
        "<table border=\"1\"  cellpadding=\"6\" bordercolor=\"red\">\n",
        "\t<tbody>\n",
        "        <tr>\n",
        "\t\t<td bgcolor=\"#DDEEFF\"><p class=\"normal\"><b>Data Set Characteristics:&nbsp;&nbsp;</b></p></td>\n",
        "\t\t<td><p class=\"normal\">Multivariate</p></td>\n",
        "\t\t<td bgcolor=\"#DDEEFF\"><p class=\"normal\"><b>Number of Instances:</b></p></td>\n",
        "\t\t<td><p class=\"normal\">1030</p></td>\n",
        "\t\t<td bgcolor=\"#DDEEFF\"><p class=\"normal\"><b>Area:</b></p></td>\n",
        "\t\t<td><p class=\"normal\">Physical</p></td>\n",
        "        </tr>\n",
        "     </tbody>\n",
        "    </table>\n",
        "<table border=\"1\" cellpadding=\"6\">\n",
        "    <tbody>\n",
        "        <tr>\n",
        "            <td bgcolor=\"#DDEEFF\"><p class=\"normal\"><b>Attribute Characteristics:</b></p></td>\n",
        "            <td><p class=\"normal\">Real</p></td>\n",
        "            <td bgcolor=\"#DDEEFF\"><p class=\"normal\"><b>Number of Attributes:</b></p></td>\n",
        "            <td><p class=\"normal\">9</p></td>\n",
        "            <td bgcolor=\"#DDEEFF\"><p class=\"normal\"><b>Date Donated</b></p></td>\n",
        "            <td><p class=\"normal\">2007-08-03</p></td>\n",
        "        </tr>\n",
        "     </tbody>\n",
        "    </table>\n",
        "<table border=\"1\" cellpadding=\"6\">\t\n",
        "    <tbody>\n",
        "    <tr>\n",
        "\t\t<td bgcolor=\"#DDEEFF\"><p class=\"normal\"><b>Associated Tasks:</b></p></td>\n",
        "\t\t<td><p class=\"normal\">Regression</p></td>\n",
        "\t\t<td bgcolor=\"#DDEEFF\"><p class=\"normal\"><b>Missing Values?</b></p></td>\n",
        "\t\t<td><p class=\"normal\">N/A</p></td>\n",
        "\t\t<td bgcolor=\"#DDEEFF\"><p class=\"normal\"><b>Number of Web Hits:</b></p></td>\n",
        "\t\t<td><p class=\"normal\">231464</p></td>\n",
        "\t</tr>\n",
        "    </tbody>\n",
        "    </table>"
      ]
    },
    {
      "cell_type": "markdown",
      "metadata": {
        "id": "88LClxsRYGLe"
      },
      "source": [
        "###  Description:\n",
        "| Features Name | Data Type | Measurement | Description |\n",
        "| -- | -- | -- | -- |\n",
        "Cement (component 1) | quantitative | kg in a m3 mixture | Input Variable\n",
        "Blast Furnace Slag (component 2) | quantitative | kg in a m3 mixture | Input Variable\n",
        "Fly Ash (component 3) | quantitative | kg in a m3 mixture | Input Variable\n",
        "Water (component 4) | quantitative | kg in a m3 mixture | Input Variable\n",
        "Superplasticizer (component 5) | quantitative | kg in a m3 mixture | Input Variable\n",
        "Coarse Aggregate (component 6) | quantitative | kg in a m3 mixture | Input Variable\n",
        "Fine Aggregate (component 7) | quantitative | kg in a m3 mixture | Input Variable\n",
        "Age | quantitative | Day (1~365) | Input Variable\n",
        "Concrete compressive strength | quantitative | MPa | Output Variable\n",
        "\n",
        "### WORKFLOW :\n",
        "- Load Data\n",
        "- Check Missing Values ( If Exist ; Fill each record with mean of its feature )\n",
        "- Standardized the Input Variables. **Hint**: Centeralized the data\n",
        "- Split into 50% Training(Samples,Labels) , 30% Test(Samples,Labels) and 20% Validation Data(Samples,Labels).\n",
        "- Model : input Layer (No. of features ), 3 hidden layers including 10,8,6 unit & Output Layer with activation function relu/tanh (check by experiment).\n",
        "- Compilation Step (Note : Its a Regression problem , select loss , metrics according to it)\n",
        "- Train the Model with Epochs (100) and validate it\n",
        "- If the model gets overfit tune your model by changing the units , No. of layers , activation function , epochs , add dropout layer or add Regularizer according to the need .\n",
        "- Evaluation Step\n",
        "- Prediction\n"
      ]
    },
    {
      "cell_type": "markdown",
      "metadata": {
        "id": "HYasNjfZYGLg"
      },
      "source": [
        "# Load Data:\n",
        "[Click Here to Download DataSet](https://github.com/ramsha275/ML_Datasets/blob/main/compresive_strength_concrete.csv)"
      ]
    },
    {
      "cell_type": "code",
      "metadata": {
        "colab": {
          "resources": {
            "http://localhost:8080/nbextensions/google.colab/files.js": {
              "data": "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",
              "ok": true,
              "headers": [
                [
                  "content-type",
                  "application/javascript"
                ]
              ],
              "status": 200,
              "status_text": ""
            }
          },
          "base_uri": "https://localhost:8080/",
          "height": 242
        },
        "id": "rtgcdv8vuxKc",
        "outputId": "4b3929a8-6cd9-406b-8169-b89c1a38f1f7"
      },
      "source": [
        "from google.colab import files\n",
        "uploaded = files.upload()\n",
        "import pandas as pd\n",
        "import numpy as np\n",
        "df=pd.read_csv(\"compresive_strength_concrete.csv\")\n",
        "df.isnull().sum()"
      ],
      "execution_count": 2,
      "outputs": [
        {
          "output_type": "display_data",
          "data": {
            "text/html": [
              "\n",
              "     <input type=\"file\" id=\"files-6d53a991-39b2-47d6-86cb-f35a0a8c4736\" name=\"files[]\" multiple disabled\n",
              "        style=\"border:none\" />\n",
              "     <output id=\"result-6d53a991-39b2-47d6-86cb-f35a0a8c4736\">\n",
              "      Upload widget is only available when the cell has been executed in the\n",
              "      current browser session. Please rerun this cell to enable.\n",
              "      </output>\n",
              "      <script src=\"/nbextensions/google.colab/files.js\"></script> "
            ],
            "text/plain": [
              "<IPython.core.display.HTML object>"
            ]
          },
          "metadata": {
            "tags": []
          }
        },
        {
          "output_type": "stream",
          "text": [
            "Saving compresive_strength_concrete.csv to compresive_strength_concrete.csv\n"
          ],
          "name": "stdout"
        },
        {
          "output_type": "execute_result",
          "data": {
            "text/plain": [
              "Cement (component 1)(kg in a m^3 mixture)                0\n",
              "Blast Furnace Slag (component 2)(kg in a m^3 mixture)    0\n",
              "Fly Ash (component 3)(kg in a m^3 mixture)               0\n",
              "Water  (component 4)(kg in a m^3 mixture)                0\n",
              "Superplasticizer (component 5)(kg in a m^3 mixture)      0\n",
              "Coarse Aggregate  (component 6)(kg in a m^3 mixture)     0\n",
              "Fine Aggregate (component 7)(kg in a m^3 mixture)        0\n",
              "Age (day)                                                0\n",
              "Concrete compressive strength(MPa, megapascals)          0\n",
              "dtype: int64"
            ]
          },
          "metadata": {
            "tags": []
          },
          "execution_count": 2
        }
      ]
    },
    {
      "cell_type": "code",
      "metadata": {
        "id": "wjzE1RzlcdYL"
      },
      "source": [
        "dfX=df.iloc[:,:8]\n",
        "dfY=df.iloc[:,8:9]\n",
        "train_X,train_Y = dfX.iloc[:515],dfY.iloc[:515]\n",
        "train_X=(train_X-train_X.mean())/train_X.std()\n",
        "train_Y=(train_Y-train_Y.mean())/train_Y.std()\n",
        "\n",
        "validate_X, validate_Y =dfX.iloc[515:824],dfY.iloc[515:824]\n",
        "validate_X=(validate_X-train_X.mean())/train_X.std()\n",
        "validate_Y=(validate_Y-train_Y.mean())/train_Y.std()\n",
        "\n",
        "\n",
        "test_X, test_Y = dfX.iloc[824:],dfY.iloc[824:]\n",
        "test_X=(test_X-train_X.mean())/train_X.std()\n",
        "test_Y=(test_Y-train_Y.mean())/train_Y.std()"
      ],
      "execution_count": 14,
      "outputs": []
    },
    {
      "cell_type": "code",
      "metadata": {
        "colab": {
          "base_uri": "https://localhost:8080/"
        },
        "id": "9nZVl-FMx0Y4",
        "outputId": "8fa344ab-7753-4d15-9c8d-027da3a23db9"
      },
      "source": [
        "from tensorflow.keras.models import Sequential\n",
        "from tensorflow.keras.layers import Dense\n",
        "from tensorflow.keras.optimizers import Adam,SGD\n",
        "\n",
        "model = Sequential()\n",
        "model.add(Dense(10, input_shape = (train_X.shape[1],), activation='relu'))\n",
        "model.add(Dense(8, activation='relu'))\n",
        "model.add(Dense(6, activation='relu'))\n",
        "model.add(Dense(1))\n",
        "\n",
        "model.summary()"
      ],
      "execution_count": 15,
      "outputs": [
        {
          "output_type": "stream",
          "text": [
            "Model: \"sequential\"\n",
            "_________________________________________________________________\n",
            "Layer (type)                 Output Shape              Param #   \n",
            "=================================================================\n",
            "dense (Dense)                (None, 10)                90        \n",
            "_________________________________________________________________\n",
            "dense_1 (Dense)              (None, 8)                 88        \n",
            "_________________________________________________________________\n",
            "dense_2 (Dense)              (None, 6)                 54        \n",
            "_________________________________________________________________\n",
            "dense_3 (Dense)              (None, 1)                 7         \n",
            "=================================================================\n",
            "Total params: 239\n",
            "Trainable params: 239\n",
            "Non-trainable params: 0\n",
            "_________________________________________________________________\n"
          ],
          "name": "stdout"
        }
      ]
    },
    {
      "cell_type": "code",
      "metadata": {
        "colab": {
          "base_uri": "https://localhost:8080/"
        },
        "id": "kjAq76nPyIJO",
        "outputId": "be47b961-1d3a-4b7d-8691-8262fae3874c"
      },
      "source": [
        "import tensorflow as tf\n",
        "model.compile(loss='mean_squared_error', optimizer=\"rmsprop\",metrics = (\"accuracy\"))\n",
        "strenght=model.fit(train_X, train_Y, \n",
        "\tvalidation_data=(validate_X, validate_Y),\n",
        "\tepochs=100, batch_size=1)"
      ],
      "execution_count": 18,
      "outputs": [
        {
          "output_type": "stream",
          "text": [
            "Epoch 1/100\n",
            "515/515 [==============================] - 2s 2ms/step - loss: 0.0831 - accuracy: 0.0000e+00 - val_loss: 41988.7266 - val_accuracy: 0.0000e+00\n",
            "Epoch 2/100\n",
            "515/515 [==============================] - 1s 2ms/step - loss: 0.0850 - accuracy: 0.0000e+00 - val_loss: 42540.4844 - val_accuracy: 0.0000e+00\n",
            "Epoch 3/100\n",
            "515/515 [==============================] - 1s 2ms/step - loss: 0.0893 - accuracy: 0.0000e+00 - val_loss: 38827.6523 - val_accuracy: 0.0000e+00\n",
            "Epoch 4/100\n",
            "515/515 [==============================] - 1s 2ms/step - loss: 0.0736 - accuracy: 0.0000e+00 - val_loss: 37292.4180 - val_accuracy: 0.0000e+00\n",
            "Epoch 5/100\n",
            "515/515 [==============================] - 1s 2ms/step - loss: 0.0784 - accuracy: 0.0000e+00 - val_loss: 43431.4258 - val_accuracy: 0.0000e+00\n",
            "Epoch 6/100\n",
            "515/515 [==============================] - 1s 2ms/step - loss: 0.0653 - accuracy: 0.0000e+00 - val_loss: 42058.4570 - val_accuracy: 0.0000e+00\n",
            "Epoch 7/100\n",
            "515/515 [==============================] - 1s 2ms/step - loss: 0.0752 - accuracy: 0.0000e+00 - val_loss: 57073.4062 - val_accuracy: 0.0000e+00\n",
            "Epoch 8/100\n",
            "515/515 [==============================] - 1s 2ms/step - loss: 0.0818 - accuracy: 0.0000e+00 - val_loss: 54024.0078 - val_accuracy: 0.0000e+00\n",
            "Epoch 9/100\n",
            "515/515 [==============================] - 1s 2ms/step - loss: 0.0819 - accuracy: 0.0000e+00 - val_loss: 55582.3164 - val_accuracy: 0.0000e+00\n",
            "Epoch 10/100\n",
            "515/515 [==============================] - 1s 2ms/step - loss: 0.0857 - accuracy: 0.0000e+00 - val_loss: 54144.4453 - val_accuracy: 0.0000e+00\n",
            "Epoch 11/100\n",
            "515/515 [==============================] - 1s 2ms/step - loss: 0.0749 - accuracy: 0.0000e+00 - val_loss: 51279.5078 - val_accuracy: 0.0000e+00\n",
            "Epoch 12/100\n",
            "515/515 [==============================] - 1s 2ms/step - loss: 0.0786 - accuracy: 0.0000e+00 - val_loss: 56220.7695 - val_accuracy: 0.0000e+00\n",
            "Epoch 13/100\n",
            "515/515 [==============================] - 1s 2ms/step - loss: 0.0776 - accuracy: 0.0000e+00 - val_loss: 48392.3633 - val_accuracy: 0.0000e+00\n",
            "Epoch 14/100\n",
            "515/515 [==============================] - 1s 2ms/step - loss: 0.0801 - accuracy: 0.0000e+00 - val_loss: 55587.9531 - val_accuracy: 0.0000e+00\n",
            "Epoch 15/100\n",
            "515/515 [==============================] - 1s 2ms/step - loss: 0.0833 - accuracy: 0.0000e+00 - val_loss: 63657.6836 - val_accuracy: 0.0000e+00\n",
            "Epoch 16/100\n",
            "515/515 [==============================] - 1s 2ms/step - loss: 0.0875 - accuracy: 0.0000e+00 - val_loss: 47099.6289 - val_accuracy: 0.0000e+00\n",
            "Epoch 17/100\n",
            "515/515 [==============================] - 1s 2ms/step - loss: 0.0631 - accuracy: 0.0000e+00 - val_loss: 53297.2656 - val_accuracy: 0.0000e+00\n",
            "Epoch 18/100\n",
            "515/515 [==============================] - 1s 2ms/step - loss: 0.0734 - accuracy: 0.0000e+00 - val_loss: 61694.3828 - val_accuracy: 0.0000e+00\n",
            "Epoch 19/100\n",
            "515/515 [==============================] - 1s 2ms/step - loss: 0.0745 - accuracy: 0.0000e+00 - val_loss: 55275.0469 - val_accuracy: 0.0000e+00\n",
            "Epoch 20/100\n",
            "515/515 [==============================] - 1s 2ms/step - loss: 0.0932 - accuracy: 0.0000e+00 - val_loss: 64387.9688 - val_accuracy: 0.0000e+00\n",
            "Epoch 21/100\n",
            "515/515 [==============================] - 1s 2ms/step - loss: 0.0889 - accuracy: 0.0000e+00 - val_loss: 68157.3047 - val_accuracy: 0.0000e+00\n",
            "Epoch 22/100\n",
            "515/515 [==============================] - 1s 2ms/step - loss: 0.0779 - accuracy: 0.0000e+00 - val_loss: 62601.9102 - val_accuracy: 0.0000e+00\n",
            "Epoch 23/100\n",
            "515/515 [==============================] - 1s 2ms/step - loss: 0.0789 - accuracy: 0.0000e+00 - val_loss: 59981.1328 - val_accuracy: 0.0000e+00\n",
            "Epoch 24/100\n",
            "515/515 [==============================] - 1s 2ms/step - loss: 0.0801 - accuracy: 0.0000e+00 - val_loss: 65952.3359 - val_accuracy: 0.0000e+00\n",
            "Epoch 25/100\n",
            "515/515 [==============================] - 1s 2ms/step - loss: 0.0666 - accuracy: 0.0000e+00 - val_loss: 72702.1641 - val_accuracy: 0.0000e+00\n",
            "Epoch 26/100\n",
            "515/515 [==============================] - 1s 2ms/step - loss: 0.0835 - accuracy: 0.0000e+00 - val_loss: 61315.9141 - val_accuracy: 0.0000e+00\n",
            "Epoch 27/100\n",
            "515/515 [==============================] - 1s 2ms/step - loss: 0.0643 - accuracy: 0.0000e+00 - val_loss: 61365.3984 - val_accuracy: 0.0000e+00\n",
            "Epoch 28/100\n",
            "515/515 [==============================] - 1s 2ms/step - loss: 0.0734 - accuracy: 0.0000e+00 - val_loss: 79370.1328 - val_accuracy: 0.0000e+00\n",
            "Epoch 29/100\n",
            "515/515 [==============================] - 1s 2ms/step - loss: 0.0730 - accuracy: 0.0000e+00 - val_loss: 77629.9141 - val_accuracy: 0.0000e+00\n",
            "Epoch 30/100\n",
            "515/515 [==============================] - 1s 2ms/step - loss: 0.0774 - accuracy: 0.0000e+00 - val_loss: 82623.1484 - val_accuracy: 0.0000e+00\n",
            "Epoch 31/100\n",
            "515/515 [==============================] - 1s 2ms/step - loss: 0.0895 - accuracy: 0.0000e+00 - val_loss: 90513.6172 - val_accuracy: 0.0000e+00\n",
            "Epoch 32/100\n",
            "515/515 [==============================] - 1s 2ms/step - loss: 0.0722 - accuracy: 0.0000e+00 - val_loss: 81374.1406 - val_accuracy: 0.0000e+00\n",
            "Epoch 33/100\n",
            "515/515 [==============================] - 1s 2ms/step - loss: 0.0774 - accuracy: 0.0000e+00 - val_loss: 90142.1641 - val_accuracy: 0.0000e+00\n",
            "Epoch 34/100\n",
            "515/515 [==============================] - 1s 2ms/step - loss: 0.0732 - accuracy: 0.0000e+00 - val_loss: 80560.5469 - val_accuracy: 0.0000e+00\n",
            "Epoch 35/100\n",
            "515/515 [==============================] - 1s 2ms/step - loss: 0.0773 - accuracy: 0.0000e+00 - val_loss: 92283.4844 - val_accuracy: 0.0000e+00\n",
            "Epoch 36/100\n",
            "515/515 [==============================] - 1s 2ms/step - loss: 0.0690 - accuracy: 0.0000e+00 - val_loss: 89065.2031 - val_accuracy: 0.0000e+00\n",
            "Epoch 37/100\n",
            "515/515 [==============================] - 1s 2ms/step - loss: 0.0773 - accuracy: 0.0000e+00 - val_loss: 116923.8203 - val_accuracy: 0.0000e+00\n",
            "Epoch 38/100\n",
            "515/515 [==============================] - 1s 2ms/step - loss: 0.0814 - accuracy: 0.0000e+00 - val_loss: 108609.6562 - val_accuracy: 0.0000e+00\n",
            "Epoch 39/100\n",
            "515/515 [==============================] - 1s 2ms/step - loss: 0.0652 - accuracy: 0.0000e+00 - val_loss: 110913.3984 - val_accuracy: 0.0000e+00\n",
            "Epoch 40/100\n",
            "515/515 [==============================] - 1s 2ms/step - loss: 0.0751 - accuracy: 0.0000e+00 - val_loss: 120743.2734 - val_accuracy: 0.0000e+00\n",
            "Epoch 41/100\n",
            "515/515 [==============================] - 1s 2ms/step - loss: 0.0868 - accuracy: 0.0000e+00 - val_loss: 128257.0469 - val_accuracy: 0.0000e+00\n",
            "Epoch 42/100\n",
            "515/515 [==============================] - 1s 2ms/step - loss: 0.0950 - accuracy: 0.0000e+00 - val_loss: 100220.8359 - val_accuracy: 0.0000e+00\n",
            "Epoch 43/100\n",
            "515/515 [==============================] - 1s 2ms/step - loss: 0.0772 - accuracy: 0.0000e+00 - val_loss: 135837.0000 - val_accuracy: 0.0000e+00\n",
            "Epoch 44/100\n",
            "515/515 [==============================] - 1s 2ms/step - loss: 0.0669 - accuracy: 0.0000e+00 - val_loss: 135441.7656 - val_accuracy: 0.0000e+00\n",
            "Epoch 45/100\n",
            "515/515 [==============================] - 1s 2ms/step - loss: 0.0803 - accuracy: 0.0000e+00 - val_loss: 138876.9375 - val_accuracy: 0.0000e+00\n",
            "Epoch 46/100\n",
            "515/515 [==============================] - 1s 2ms/step - loss: 0.0713 - accuracy: 0.0000e+00 - val_loss: 128964.0625 - val_accuracy: 0.0000e+00\n",
            "Epoch 47/100\n",
            "515/515 [==============================] - 1s 2ms/step - loss: 0.0798 - accuracy: 0.0000e+00 - val_loss: 129427.7578 - val_accuracy: 0.0000e+00\n",
            "Epoch 48/100\n",
            "515/515 [==============================] - 1s 2ms/step - loss: 0.0809 - accuracy: 0.0000e+00 - val_loss: 131460.5156 - val_accuracy: 0.0000e+00\n",
            "Epoch 49/100\n",
            "515/515 [==============================] - 1s 2ms/step - loss: 0.0756 - accuracy: 0.0000e+00 - val_loss: 133836.0469 - val_accuracy: 0.0000e+00\n",
            "Epoch 50/100\n",
            "515/515 [==============================] - 1s 2ms/step - loss: 0.0847 - accuracy: 0.0000e+00 - val_loss: 164418.2656 - val_accuracy: 0.0000e+00\n",
            "Epoch 51/100\n",
            "515/515 [==============================] - 1s 2ms/step - loss: 0.0647 - accuracy: 0.0000e+00 - val_loss: 148689.1406 - val_accuracy: 0.0000e+00\n",
            "Epoch 52/100\n",
            "515/515 [==============================] - 1s 2ms/step - loss: 0.0705 - accuracy: 0.0000e+00 - val_loss: 173679.4375 - val_accuracy: 0.0000e+00\n",
            "Epoch 53/100\n",
            "515/515 [==============================] - 1s 2ms/step - loss: 0.0632 - accuracy: 0.0000e+00 - val_loss: 146551.4688 - val_accuracy: 0.0000e+00\n",
            "Epoch 54/100\n",
            "515/515 [==============================] - 1s 2ms/step - loss: 0.0768 - accuracy: 0.0000e+00 - val_loss: 143856.5312 - val_accuracy: 0.0000e+00\n",
            "Epoch 55/100\n",
            "515/515 [==============================] - 1s 2ms/step - loss: 0.0706 - accuracy: 0.0000e+00 - val_loss: 159708.9844 - val_accuracy: 0.0000e+00\n",
            "Epoch 56/100\n",
            "515/515 [==============================] - 1s 2ms/step - loss: 0.0719 - accuracy: 0.0000e+00 - val_loss: 156741.6875 - val_accuracy: 0.0000e+00\n",
            "Epoch 57/100\n",
            "515/515 [==============================] - 1s 2ms/step - loss: 0.0767 - accuracy: 0.0000e+00 - val_loss: 153731.2031 - val_accuracy: 0.0000e+00\n",
            "Epoch 58/100\n",
            "515/515 [==============================] - 1s 2ms/step - loss: 0.0734 - accuracy: 0.0000e+00 - val_loss: 171642.7969 - val_accuracy: 0.0000e+00\n",
            "Epoch 59/100\n",
            "515/515 [==============================] - 1s 2ms/step - loss: 0.0823 - accuracy: 0.0000e+00 - val_loss: 173514.8438 - val_accuracy: 0.0000e+00\n",
            "Epoch 60/100\n",
            "515/515 [==============================] - 1s 2ms/step - loss: 0.0787 - accuracy: 0.0000e+00 - val_loss: 177032.9844 - val_accuracy: 0.0000e+00\n",
            "Epoch 61/100\n",
            "515/515 [==============================] - 1s 2ms/step - loss: 0.0666 - accuracy: 0.0000e+00 - val_loss: 212959.7188 - val_accuracy: 0.0000e+00\n",
            "Epoch 62/100\n",
            "515/515 [==============================] - 1s 2ms/step - loss: 0.0757 - accuracy: 0.0000e+00 - val_loss: 172769.7188 - val_accuracy: 0.0000e+00\n",
            "Epoch 63/100\n",
            "515/515 [==============================] - 1s 2ms/step - loss: 0.0723 - accuracy: 0.0000e+00 - val_loss: 159374.5625 - val_accuracy: 0.0000e+00\n",
            "Epoch 64/100\n",
            "515/515 [==============================] - 1s 2ms/step - loss: 0.0783 - accuracy: 0.0000e+00 - val_loss: 182559.1719 - val_accuracy: 0.0000e+00\n",
            "Epoch 65/100\n",
            "515/515 [==============================] - 1s 2ms/step - loss: 0.0721 - accuracy: 0.0000e+00 - val_loss: 221925.3125 - val_accuracy: 0.0000e+00\n",
            "Epoch 66/100\n",
            "515/515 [==============================] - 1s 2ms/step - loss: 0.0742 - accuracy: 0.0000e+00 - val_loss: 189831.6719 - val_accuracy: 0.0000e+00\n",
            "Epoch 67/100\n",
            "515/515 [==============================] - 1s 2ms/step - loss: 0.0719 - accuracy: 0.0000e+00 - val_loss: 165873.7969 - val_accuracy: 0.0000e+00\n",
            "Epoch 68/100\n",
            "515/515 [==============================] - 1s 2ms/step - loss: 0.0779 - accuracy: 0.0000e+00 - val_loss: 157199.1250 - val_accuracy: 0.0000e+00\n",
            "Epoch 69/100\n",
            "515/515 [==============================] - 1s 2ms/step - loss: 0.0655 - accuracy: 0.0000e+00 - val_loss: 170899.4062 - val_accuracy: 0.0000e+00\n",
            "Epoch 70/100\n",
            "515/515 [==============================] - 1s 2ms/step - loss: 0.0776 - accuracy: 0.0000e+00 - val_loss: 151344.7969 - val_accuracy: 0.0000e+00\n",
            "Epoch 71/100\n",
            "515/515 [==============================] - 1s 2ms/step - loss: 0.0791 - accuracy: 0.0000e+00 - val_loss: 207555.4688 - val_accuracy: 0.0000e+00\n",
            "Epoch 72/100\n",
            "515/515 [==============================] - 1s 2ms/step - loss: 0.0908 - accuracy: 0.0000e+00 - val_loss: 184062.8281 - val_accuracy: 0.0000e+00\n",
            "Epoch 73/100\n",
            "515/515 [==============================] - 1s 2ms/step - loss: 0.0632 - accuracy: 0.0000e+00 - val_loss: 195974.7500 - val_accuracy: 0.0000e+00\n",
            "Epoch 74/100\n",
            "515/515 [==============================] - 1s 2ms/step - loss: 0.0786 - accuracy: 0.0000e+00 - val_loss: 240011.1250 - val_accuracy: 0.0000e+00\n",
            "Epoch 75/100\n",
            "515/515 [==============================] - 1s 2ms/step - loss: 0.0732 - accuracy: 0.0000e+00 - val_loss: 185127.5781 - val_accuracy: 0.0000e+00\n",
            "Epoch 76/100\n",
            "515/515 [==============================] - 1s 2ms/step - loss: 0.0758 - accuracy: 0.0000e+00 - val_loss: 182782.3594 - val_accuracy: 0.0000e+00\n",
            "Epoch 77/100\n",
            "515/515 [==============================] - 1s 2ms/step - loss: 0.0795 - accuracy: 0.0000e+00 - val_loss: 211052.7344 - val_accuracy: 0.0000e+00\n",
            "Epoch 78/100\n",
            "515/515 [==============================] - 1s 2ms/step - loss: 0.0706 - accuracy: 0.0000e+00 - val_loss: 245550.6250 - val_accuracy: 0.0000e+00\n",
            "Epoch 79/100\n",
            "515/515 [==============================] - 1s 2ms/step - loss: 0.0663 - accuracy: 0.0000e+00 - val_loss: 208339.8750 - val_accuracy: 0.0000e+00\n",
            "Epoch 80/100\n",
            "515/515 [==============================] - 1s 2ms/step - loss: 0.0749 - accuracy: 0.0000e+00 - val_loss: 244993.2969 - val_accuracy: 0.0000e+00\n",
            "Epoch 81/100\n",
            "515/515 [==============================] - 1s 2ms/step - loss: 0.0744 - accuracy: 0.0000e+00 - val_loss: 268056.9062 - val_accuracy: 0.0000e+00\n",
            "Epoch 82/100\n",
            "515/515 [==============================] - 1s 2ms/step - loss: 0.0772 - accuracy: 0.0000e+00 - val_loss: 215670.9531 - val_accuracy: 0.0000e+00\n",
            "Epoch 83/100\n",
            "515/515 [==============================] - 1s 2ms/step - loss: 0.0734 - accuracy: 0.0000e+00 - val_loss: 230378.6719 - val_accuracy: 0.0000e+00\n",
            "Epoch 84/100\n",
            "515/515 [==============================] - 1s 2ms/step - loss: 0.0644 - accuracy: 0.0000e+00 - val_loss: 227896.4219 - val_accuracy: 0.0000e+00\n",
            "Epoch 85/100\n",
            "515/515 [==============================] - 1s 2ms/step - loss: 0.0562 - accuracy: 0.0000e+00 - val_loss: 307901.9062 - val_accuracy: 0.0000e+00\n",
            "Epoch 86/100\n",
            "515/515 [==============================] - 1s 2ms/step - loss: 0.0843 - accuracy: 0.0000e+00 - val_loss: 241988.6406 - val_accuracy: 0.0000e+00\n",
            "Epoch 87/100\n",
            "515/515 [==============================] - 1s 2ms/step - loss: 0.0769 - accuracy: 0.0000e+00 - val_loss: 304704.5312 - val_accuracy: 0.0000e+00\n",
            "Epoch 88/100\n",
            "515/515 [==============================] - 1s 2ms/step - loss: 0.0778 - accuracy: 0.0000e+00 - val_loss: 259040.1875 - val_accuracy: 0.0000e+00\n",
            "Epoch 89/100\n",
            "515/515 [==============================] - 1s 2ms/step - loss: 0.0742 - accuracy: 0.0000e+00 - val_loss: 276436.0938 - val_accuracy: 0.0000e+00\n",
            "Epoch 90/100\n",
            "515/515 [==============================] - 1s 2ms/step - loss: 0.0702 - accuracy: 0.0000e+00 - val_loss: 242784.4375 - val_accuracy: 0.0000e+00\n",
            "Epoch 91/100\n",
            "515/515 [==============================] - 1s 2ms/step - loss: 0.0616 - accuracy: 0.0000e+00 - val_loss: 293095.8125 - val_accuracy: 0.0000e+00\n",
            "Epoch 92/100\n",
            "515/515 [==============================] - 1s 2ms/step - loss: 0.0720 - accuracy: 0.0000e+00 - val_loss: 276737.5938 - val_accuracy: 0.0000e+00\n",
            "Epoch 93/100\n",
            "515/515 [==============================] - 1s 2ms/step - loss: 0.0608 - accuracy: 0.0000e+00 - val_loss: 277725.7188 - val_accuracy: 0.0000e+00\n",
            "Epoch 94/100\n",
            "515/515 [==============================] - 1s 2ms/step - loss: 0.0684 - accuracy: 0.0000e+00 - val_loss: 204109.2188 - val_accuracy: 0.0000e+00\n",
            "Epoch 95/100\n",
            "515/515 [==============================] - 1s 2ms/step - loss: 0.0663 - accuracy: 0.0000e+00 - val_loss: 211235.3750 - val_accuracy: 0.0000e+00\n",
            "Epoch 96/100\n",
            "515/515 [==============================] - 1s 2ms/step - loss: 0.0685 - accuracy: 0.0000e+00 - val_loss: 298058.6875 - val_accuracy: 0.0000e+00\n",
            "Epoch 97/100\n",
            "515/515 [==============================] - 1s 2ms/step - loss: 0.0824 - accuracy: 0.0000e+00 - val_loss: 251914.3281 - val_accuracy: 0.0000e+00\n",
            "Epoch 98/100\n",
            "515/515 [==============================] - 1s 2ms/step - loss: 0.0752 - accuracy: 0.0000e+00 - val_loss: 315080.6250 - val_accuracy: 0.0000e+00\n",
            "Epoch 99/100\n",
            "515/515 [==============================] - 1s 2ms/step - loss: 0.0843 - accuracy: 0.0000e+00 - val_loss: 271325.9062 - val_accuracy: 0.0000e+00\n",
            "Epoch 100/100\n",
            "515/515 [==============================] - 1s 2ms/step - loss: 0.0621 - accuracy: 0.0000e+00 - val_loss: 249445.0469 - val_accuracy: 0.0000e+00\n"
          ],
          "name": "stdout"
        }
      ]
    },
    {
      "cell_type": "code",
      "metadata": {
        "colab": {
          "base_uri": "https://localhost:8080/",
          "height": 419
        },
        "id": "cItAfcZDzjxo",
        "outputId": "f8695610-223e-4c8a-e3fa-5d70fa134bbc"
      },
      "source": [
        "e= strenght.history\n",
        "ef=pd.DataFrame(e)\n",
        "ef"
      ],
      "execution_count": 20,
      "outputs": [
        {
          "output_type": "execute_result",
          "data": {
            "text/html": [
              "<div>\n",
              "<style scoped>\n",
              "    .dataframe tbody tr th:only-of-type {\n",
              "        vertical-align: middle;\n",
              "    }\n",
              "\n",
              "    .dataframe tbody tr th {\n",
              "        vertical-align: top;\n",
              "    }\n",
              "\n",
              "    .dataframe thead th {\n",
              "        text-align: right;\n",
              "    }\n",
              "</style>\n",
              "<table border=\"1\" class=\"dataframe\">\n",
              "  <thead>\n",
              "    <tr style=\"text-align: right;\">\n",
              "      <th></th>\n",
              "      <th>loss</th>\n",
              "      <th>accuracy</th>\n",
              "      <th>val_loss</th>\n",
              "      <th>val_accuracy</th>\n",
              "    </tr>\n",
              "  </thead>\n",
              "  <tbody>\n",
              "    <tr>\n",
              "      <th>0</th>\n",
              "      <td>0.079416</td>\n",
              "      <td>0.0</td>\n",
              "      <td>41988.726562</td>\n",
              "      <td>0.0</td>\n",
              "    </tr>\n",
              "    <tr>\n",
              "      <th>1</th>\n",
              "      <td>0.080570</td>\n",
              "      <td>0.0</td>\n",
              "      <td>42540.484375</td>\n",
              "      <td>0.0</td>\n",
              "    </tr>\n",
              "    <tr>\n",
              "      <th>2</th>\n",
              "      <td>0.081782</td>\n",
              "      <td>0.0</td>\n",
              "      <td>38827.652344</td>\n",
              "      <td>0.0</td>\n",
              "    </tr>\n",
              "    <tr>\n",
              "      <th>3</th>\n",
              "      <td>0.079183</td>\n",
              "      <td>0.0</td>\n",
              "      <td>37292.417969</td>\n",
              "      <td>0.0</td>\n",
              "    </tr>\n",
              "    <tr>\n",
              "      <th>4</th>\n",
              "      <td>0.079428</td>\n",
              "      <td>0.0</td>\n",
              "      <td>43431.425781</td>\n",
              "      <td>0.0</td>\n",
              "    </tr>\n",
              "    <tr>\n",
              "      <th>...</th>\n",
              "      <td>...</td>\n",
              "      <td>...</td>\n",
              "      <td>...</td>\n",
              "      <td>...</td>\n",
              "    </tr>\n",
              "    <tr>\n",
              "      <th>95</th>\n",
              "      <td>0.071180</td>\n",
              "      <td>0.0</td>\n",
              "      <td>298058.687500</td>\n",
              "      <td>0.0</td>\n",
              "    </tr>\n",
              "    <tr>\n",
              "      <th>96</th>\n",
              "      <td>0.078287</td>\n",
              "      <td>0.0</td>\n",
              "      <td>251914.328125</td>\n",
              "      <td>0.0</td>\n",
              "    </tr>\n",
              "    <tr>\n",
              "      <th>97</th>\n",
              "      <td>0.076160</td>\n",
              "      <td>0.0</td>\n",
              "      <td>315080.625000</td>\n",
              "      <td>0.0</td>\n",
              "    </tr>\n",
              "    <tr>\n",
              "      <th>98</th>\n",
              "      <td>0.075338</td>\n",
              "      <td>0.0</td>\n",
              "      <td>271325.906250</td>\n",
              "      <td>0.0</td>\n",
              "    </tr>\n",
              "    <tr>\n",
              "      <th>99</th>\n",
              "      <td>0.072838</td>\n",
              "      <td>0.0</td>\n",
              "      <td>249445.046875</td>\n",
              "      <td>0.0</td>\n",
              "    </tr>\n",
              "  </tbody>\n",
              "</table>\n",
              "<p>100 rows × 4 columns</p>\n",
              "</div>"
            ],
            "text/plain": [
              "        loss  accuracy       val_loss  val_accuracy\n",
              "0   0.079416       0.0   41988.726562           0.0\n",
              "1   0.080570       0.0   42540.484375           0.0\n",
              "2   0.081782       0.0   38827.652344           0.0\n",
              "3   0.079183       0.0   37292.417969           0.0\n",
              "4   0.079428       0.0   43431.425781           0.0\n",
              "..       ...       ...            ...           ...\n",
              "95  0.071180       0.0  298058.687500           0.0\n",
              "96  0.078287       0.0  251914.328125           0.0\n",
              "97  0.076160       0.0  315080.625000           0.0\n",
              "98  0.075338       0.0  271325.906250           0.0\n",
              "99  0.072838       0.0  249445.046875           0.0\n",
              "\n",
              "[100 rows x 4 columns]"
            ]
          },
          "metadata": {
            "tags": []
          },
          "execution_count": 20
        }
      ]
    },
    {
      "cell_type": "code",
      "metadata": {
        "colab": {
          "base_uri": "https://localhost:8080/",
          "height": 282
        },
        "id": "4gXDoY5z0gzt",
        "outputId": "15195ba0-fcfa-482c-c550-99c14559982f"
      },
      "source": [
        "ef.plot( y = ['loss', 'val_loss'])"
      ],
      "execution_count": 21,
      "outputs": [
        {
          "output_type": "execute_result",
          "data": {
            "text/plain": [
              "<matplotlib.axes._subplots.AxesSubplot at 0x7f6f9f339990>"
            ]
          },
          "metadata": {
            "tags": []
          },
          "execution_count": 21
        },
        {
          "output_type": "display_data",
          "data": {
            "image/png": "[encoded data removed]",
            "text/plain": [
              "<Figure size 432x288 with 1 Axes>"
            ]
          },
          "metadata": {
            "tags": [],
            "needs_background": "light"
          }
        }
      ]
    },
    {
      "cell_type": "code",
      "metadata": {
        "colab": {
          "base_uri": "https://localhost:8080/",
          "height": 282
        },
        "id": "Gl_Fb2PX2Qof",
        "outputId": "ebfbaec2-a215-4286-c098-588d99e8cdc1"
      },
      "source": [
        "import matplotlib.pyplot as plt\n",
        "\n",
        "model.evaluate(test_X,test_Y)\n",
        "plt.plot(test_Y)\n",
        "plt.ylabel('graph')\n",
        "plt.show()"
      ],
      "execution_count": 27,
      "outputs": [
        {
          "output_type": "stream",
          "text": [
            "7/7 [==============================] - 0s 2ms/step - loss: 467576.8438 - accuracy: 0.0000e+00\n"
          ],
          "name": "stdout"
        },
        {
          "output_type": "display_data",
          "data": {
            "image/png": "[encoded data removed]",
            "text/plain": [
              "<Figure size 432x288 with 1 Axes>"
            ]
          },
          "metadata": {
            "tags": [],
            "needs_background": "light"
          }
        }
      ]
    },
    {
      "cell_type": "code",
      "metadata": {
        "colab": {
          "base_uri": "https://localhost:8080/",
          "height": 265
        },
        "id": "O9lCBR6-353D",
        "outputId": "d2348c55-6994-4f24-b43c-3bfb50a50165"
      },
      "source": [
        "\n",
        "plt.plot(model.predict(test_X))\n",
        "plt.show()"
      ],
      "execution_count": 24,
      "outputs": [
        {
          "output_type": "display_data",
          "data": {
            "image/png": "[encoded data removed]",
            "text/plain": [
              "<Figure size 432x288 with 1 Axes>"
            ]
          },
          "metadata": {
            "tags": [],
            "needs_background": "light"
          }
        }
      ]
    }
  ]
}