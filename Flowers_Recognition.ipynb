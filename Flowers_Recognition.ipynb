{
  "nbformat": 4,
  "nbformat_minor": 0,
  "metadata": {
    "colab": {
      "name": "Flowers_Recognition.ipynb",
      "provenance": [],
      "collapsed_sections": []
    },
    "kernelspec": {
      "name": "python3",
      "display_name": "Python 3"
    },
    "accelerator": "TPU"
  },
  "cells": [
    {
      "cell_type": "markdown",
      "metadata": {
        "id": "BXgJ6uT1NydQ"
      },
      "source": [
        "Assignment: Flowers Recognition <br>\n",
        "Dataset Description:<br>\n",
        "\n",
        "This dataset contains 4242 images of flowers.<br>\n",
        "The data collection is based on the data flicr, google images, yandex images.<br>\n",
        "You can use this datastet to recognize plants from the photo.<br>\n",
        "\n",
        "Attribute Information:<br>\n",
        "The pictures are divided into five classes: chamomile, tulip, rose, sunflower, dandelion.<br>\n",
        "For each class there are about 800 photos. Photos are not high resolution, about 320x240 pixels. <br>\n",
        "<b>Also explore how to resize images in tensorflow and then resize all the images to a same size. </b> <br>\n",
        "This is a Multiclass Classification Problem.<br>\n",
        "\n",
        "\n"
      ]
    },
    {
      "cell_type": "markdown",
      "metadata": {
        "id": "T7vy-ktuOKJH"
      },
      "source": [
        "WORKFLOW : <br>\n",
        "Load Data <br>\n",
        "Split into 60 and 40 ratio.<br>\n",
        "Encode labels.<br>\n",
        "Create Model<br>\n",
        "Compilation Step (Note : Its a Multiclass Classification problem , select loss , metrics according to it)<br>\n",
        "Train the Model.<br>\n",
        "If the model gets overfit tune your model by changing the units , No. of layers , epochs , add dropout layer or add Regularizer according to the need .<br>\n",
        "Prediction should be > 85%<br>\n",
        "Evaluation Step<br>\n",
        "Prediction<br>\n",
        "\n",
        "\n"
      ]
    },
    {
      "cell_type": "markdown",
      "metadata": {
        "id": "ri3Bg5qfPRic"
      },
      "source": [
        "Data : <br>\n",
        "https://drive.google.com/file/d/1-OX6wn5gA-bJpjPNfSyaYQLz-A-AB_uj/view?usp=sharing"
      ]
    },
    {
      "cell_type": "code",
      "metadata": {
        "id": "hTtg3WuGTA1o"
      },
      "source": [
        "from pydrive.auth import GoogleAuth\n",
        "from pydrive.drive import GoogleDrive\n",
        "from google.colab import auth\n",
        "from oauth2client.client import GoogleCredentials\n",
        "from google.colab import files\n",
        "import pandas as pd\n",
        "import numpy as np\n",
        "auth.authenticate_user()\n",
        "gauth = GoogleAuth()\n",
        "gauth.credentials = GoogleCredentials.get_application_default()\n",
        "drive = GoogleDrive(gauth)\n",
        "downloaded = drive.CreateFile({'id':\"1-OX6wn5gA-bJpjPNfSyaYQLz-A-AB_uj\"})   \n",
        "downloaded.GetContentFile('archive.zip')"
      ],
      "execution_count": null,
      "outputs": []
    },
    {
      "cell_type": "code",
      "metadata": {
        "id": "LVVpLqhmU-8G"
      },
      "source": [
        "import io\n",
        "import matplotlib.pyplot as plt\n",
        "import zipfile\n",
        "from PIL import Image\n",
        "from numpy import asarray\n",
        "import tensorflow as tf\n",
        "labels=pd.Series(dtype=str)\n",
        "ch=1\n",
        "count=0\n",
        "\n",
        "z = zipfile.ZipFile(\"archive.zip\")\n",
        "name=np.array(z.namelist())\n",
        "train=0.6*len(z.namelist())\n",
        "\n",
        "for i in range(train):\n",
        "    file_in_zip = z.namelist()[i]\n",
        "    if (\".jpg\" in file_in_zip or \".JPG\" in file_in_zip):\n",
        "        \n",
        "        temp=name[count].split('/')\n",
        "        train_labels=pd.Series(temp[1])\n",
        "        train_labels=labels.append(labels)\n",
        "        count=count+1\n",
        "        data = z.read(file_in_zip)\n",
        "        dataEnc = io.BytesIO(data)\n",
        "        img = Image.open(dataEnc)\n",
        "        img=img.resize((320,260), resample=0)\n",
        "        images = asarray(img).astype(np.float32)/255\n",
        "\n",
        "        if ch==1:\n",
        "            train_images= asarray(img).astype(np.float32)/255\n",
        "            ch=0\n",
        "        else:\n",
        "          \n",
        " \n",
        "            train_images=np.vstack((train_images,images))\n",
        "count=0\n",
        "ch=1\n",
        "test=train+1         \n",
        "while test>len(z.namelist())\n",
        "    file_in_zip = z.namelist()[i]\n",
        "    if (\".jpg\" in file_in_zip or \".JPG\" in file_in_zip):\n",
        "        \n",
        "        temp=name[count].split('/')\n",
        "        test_labels=pd.Series(temp[1])\n",
        "        test_labels=labels.append(labels)\n",
        "        count=count+1\n",
        "        data = z.read(file_in_zip)\n",
        "        dataEnc = io.BytesIO(data)\n",
        "        img = Image.open(dataEnc)\n",
        "        img=img.resize((320,260), resample=0)\n",
        "        images = asarray(img).astype(np.float32)/255\n",
        "\n",
        "        if ch==1:\n",
        "            test_images= asarray(img).astype(np.float32)/255\n",
        "            ch=0\n",
        "        else:\n",
        "          \n",
        "            test_images=np.vstack((test_images,images))\n",
        "     "
      ],
      "execution_count": null,
      "outputs": []
    },
    {
      "cell_type": "code",
      "metadata": {
        "id": "ACdSmUJAYPz2"
      },
      "source": [
        "rom tensorflow.keras.models import Sequential\n",
        "from tensorflow.keras.layers import Dense\n",
        "from tensorflow.keras.optimizers import Adam,SGD\n",
        "from keras.utils import to_categorical\n",
        "train_labels = to_categorical(train_labels)\n",
        "test_labels = to_categorical(test_labels)\n",
        "model = Sequential()\n",
        "model.add(Dense(10, input_shape = (train_images.shape[1],), activation='relu'))\n",
        "model.add(Dense(8, activation='relu'))\n",
        "model.add(Dense(5,activation=\"softmax\"))\n",
        "\n",
        "model.summary()"
      ],
      "execution_count": null,
      "outputs": []
    },
    {
      "cell_type": "code",
      "metadata": {
        "id": "zhxKt8cbuaC8"
      },
      "source": [
        "model.compile(optimizer='rmsprop', loss='categorical_crossentropy',metrics=['accuracy' ])\n",
        "\n",
        "history = model.fit(train_images, train_labels, epochs=10, validation_data=(test_images, test_labels))"
      ],
      "execution_count": null,
      "outputs": []
    },
    {
      "cell_type": "code",
      "metadata": {
        "id": "cn7m6x6Uudb0"
      },
      "source": [
        "test_loss,test_acc=model.evaluate(test_images,test_labels,verbose=2)"
      ],
      "execution_count": null,
      "outputs": []
    },
    {
      "cell_type": "code",
      "metadata": {
        "id": "e4LE6s__ufLd"
      },
      "source": [
        "print(test_acc)"
      ],
      "execution_count": null,
      "outputs": []
    },
    {
      "cell_type": "code",
      "metadata": {
        "id": "Kkn-DTR611oc"
      },
      "source": [
        "plt.plot(model.predict(test_images))\n",
        "plt.show()\n"
      ],
      "execution_count": null,
      "outputs": []
    }
  ]
}