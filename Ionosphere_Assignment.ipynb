{
  "nbformat": 4,
  "nbformat_minor": 0,
  "metadata": {
    "kernelspec": {
      "display_name": "Python 3",
      "language": "python",
      "name": "python3"
    },
    "language_info": {
      "codemirror_mode": {
        "name": "ipython",
        "version": 3
      },
      "file_extension": ".py",
      "mimetype": "text/x-python",
      "name": "python",
      "nbconvert_exporter": "python",
      "pygments_lexer": "ipython3",
      "version": "3.7.3"
    },
    "colab": {
      "name": "Ionosphere Assignment.ipynb",
      "provenance": [],
      "collapsed_sections": []
    },
    "accelerator": "GPU"
  },
  "cells": [
    {
      "cell_type": "markdown",
      "metadata": {
        "id": "xbe5XG1Fa9_P"
      },
      "source": [
        "# Assignment: Ionosphere Data Problem\n",
        "\n",
        "### Dataset Description: \n",
        "\n",
        "This radar data was collected by a system in Goose Bay, Labrador. This system consists of a phased array of 16 high-frequency antennas with a total transmitted power on the order of 6.4 kilowatts. See the paper for more details. The targets were free electrons in the ionosphere. \"Good\" radar returns are those showing evidence of some type of structure in the ionosphere. \"Bad\" returns are those that do not; their signals pass through the ionosphere.\n",
        "\n",
        "Received signals were processed using an autocorrelation function whose arguments are the time of a pulse and the pulse number. There were 17 pulse numbers for the Goose Bay system. Instances in this databse are described by 2 attributes per pulse number, corresponding to the complex values returned by the function resulting from the complex electromagnetic signal.\n",
        "\n",
        "### Attribute Information:\n",
        "\n",
        "- All 34 are continuous\n",
        "- The 35th attribute is either \"good\" or \"bad\" according to the definition summarized above. This is a binary classification task.\n",
        "\n",
        " <br><br>\n",
        "\n",
        "<table border=\"1\"  cellpadding=\"6\">\n",
        "\t<tbody>\n",
        "        <tr>\n",
        "\t\t<td bgcolor=\"#DDEEFF\"><p class=\"normal\"><b>Data Set Characteristics:&nbsp;&nbsp;</b></p></td>\n",
        "\t\t<td><p class=\"normal\">Multivariate</p></td>\n",
        "\t\t<td bgcolor=\"#DDEEFF\"><p class=\"normal\"><b>Number of Instances:</b></p></td>\n",
        "\t\t<td><p class=\"normal\">351</p></td>\n",
        "\t\t<td bgcolor=\"#DDEEFF\"><p class=\"normal\"><b>Area:</b></p></td>\n",
        "\t\t<td><p class=\"normal\">Physical</p></td>\n",
        "        </tr>\n",
        "     </tbody>\n",
        "    </table>\n",
        "<table border=\"1\" cellpadding=\"6\">\n",
        "    <tbody>\n",
        "        <tr>\n",
        "            <td bgcolor=\"#DDEEFF\"><p class=\"normal\"><b>Attribute Characteristics:</b></p></td>\n",
        "            <td><p class=\"normal\">Integer,Real</p></td>\n",
        "            <td bgcolor=\"#DDEEFF\"><p class=\"normal\"><b>Number of Attributes:</b></p></td>\n",
        "            <td><p class=\"normal\">34</p></td>\n",
        "            <td bgcolor=\"#DDEEFF\"><p class=\"normal\"><b>Date Donated</b></p></td>\n",
        "            <td><p class=\"normal\">N/A</p></td>\n",
        "        </tr>\n",
        "     </tbody>\n",
        "    </table>\n",
        "<table border=\"1\" cellpadding=\"6\">\t\n",
        "    <tbody>\n",
        "    <tr>\n",
        "\t\t<td bgcolor=\"#DDEEFF\"><p class=\"normal\"><b>Associated Tasks:</b></p></td>\n",
        "\t\t<td><p class=\"normal\">Classification</p></td>\n",
        "\t\t<td bgcolor=\"#DDEEFF\"><p class=\"normal\"><b>Missing Values?</b></p></td>\n",
        "\t\t<td><p class=\"normal\">N/A</p></td>\n",
        "\t\t<td bgcolor=\"#DDEEFF\"><p class=\"normal\"><b>Number of Web Hits:</b></p></td>\n",
        "\t\t<td><p class=\"normal\">N/A</p></td>\n",
        "\t</tr>\n",
        "    </tbody>\n",
        "    </table>"
      ]
    },
    {
      "cell_type": "markdown",
      "metadata": {
        "id": "-EFCHmOla9_a"
      },
      "source": [
        "### WORKFLOW :\n",
        "- Load Data\n",
        "- Check Missing Values ( If Exist ; Fill each record with mean of its feature ) or any usless column.\n",
        "- Shuffle the data if needed.\n",
        "- Standardized the Input Variables. **Hint**: Centeralized the data\n",
        "- Split into 60 and 40 ratio.\n",
        "- Encode labels.\n",
        "- Model : 1 hidden layers including 16 unit.\n",
        "- Compilation Step (Note : Its a Binary problem , select loss , metrics according to it)\n",
        "- Train the Model with Epochs (100).\n",
        "- If the model gets overfit tune your model by changing the units , No. of layers , epochs , add dropout layer or add Regularizer according to the need .\n",
        "- Prediction should be > **92%**\n",
        "- Evaluation Step\n",
        "- Prediction\n"
      ]
    },
    {
      "cell_type": "markdown",
      "metadata": {
        "id": "_l51khJha9_c"
      },
      "source": [
        "# Load Data:\n",
        "[Click Here to Download DataSet](https://github.com/ramsha275/ML_Datasets/blob/main/ionosphere_data.csv)"
      ]
    },
    {
      "cell_type": "code",
      "metadata": {
        "colab": {
          "resources": {
            "http://localhost:8080/nbextensions/google.colab/files.js": {
              "data": "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",
              "ok": true,
              "headers": [
                [
                  "content-type",
                  "application/javascript"
                ]
              ],
              "status": 200,
              "status_text": ""
            }
          },
          "base_uri": "https://localhost:8080/",
          "height": 684
        },
        "id": "MpRLNoPma9_d",
        "outputId": "be8e3eb0-e890-4b07-d67a-ab893ad22f4c"
      },
      "source": [
        "from google.colab import files\n",
        "uploaded = files.upload()\n",
        "import pandas as pd\n",
        "import numpy as np\n",
        "df=pd.read_csv(\"ionosphere_data.csv\")\n",
        "df.isnull().sum()"
      ],
      "execution_count": 1,
      "outputs": [
        {
          "output_type": "display_data",
          "data": {
            "text/html": [
              "\n",
              "     <input type=\"file\" id=\"files-6b17e46a-1b5b-40da-a192-affe84978307\" name=\"files[]\" multiple disabled\n",
              "        style=\"border:none\" />\n",
              "     <output id=\"result-6b17e46a-1b5b-40da-a192-affe84978307\">\n",
              "      Upload widget is only available when the cell has been executed in the\n",
              "      current browser session. Please rerun this cell to enable.\n",
              "      </output>\n",
              "      <script src=\"/nbextensions/google.colab/files.js\"></script> "
            ],
            "text/plain": [
              "<IPython.core.display.HTML object>"
            ]
          },
          "metadata": {
            "tags": []
          }
        },
        {
          "output_type": "stream",
          "text": [
            "Saving ionosphere_data.csv to ionosphere_data.csv\n"
          ],
          "name": "stdout"
        },
        {
          "output_type": "execute_result",
          "data": {
            "text/plain": [
              "feature1     0\n",
              "feature2     0\n",
              "feature3     0\n",
              "feature4     0\n",
              "feature5     0\n",
              "feature6     0\n",
              "feature7     0\n",
              "feature8     0\n",
              "feature9     0\n",
              "feature10    0\n",
              "feature11    0\n",
              "feature12    0\n",
              "feature13    0\n",
              "feature14    0\n",
              "feature15    0\n",
              "feature16    0\n",
              "feature17    0\n",
              "feature18    0\n",
              "feature19    0\n",
              "feature20    0\n",
              "feature21    0\n",
              "feature22    0\n",
              "feature23    0\n",
              "feature24    0\n",
              "feature25    0\n",
              "feature26    0\n",
              "feature27    0\n",
              "feature28    0\n",
              "feature29    0\n",
              "feature30    0\n",
              "feature31    0\n",
              "feature32    0\n",
              "feature33    0\n",
              "feature34    0\n",
              "label        0\n",
              "dtype: int64"
            ]
          },
          "metadata": {
            "tags": []
          },
          "execution_count": 1
        }
      ]
    },
    {
      "cell_type": "code",
      "metadata": {
        "colab": {
          "base_uri": "https://localhost:8080/",
          "height": 221
        },
        "id": "s-TwAVONcn8H",
        "outputId": "284f1448-acae-42f5-a47f-20a31586344b"
      },
      "source": [
        "from keras.models import Sequential\n",
        "from keras.layers import Dense\n",
        "from tensorflow.keras.optimizers import Adam,SGD\n",
        "\n",
        "print(df.shape)\n",
        "dfX=df.iloc[:,3:34]\n",
        "dfY=df.iloc[:,34:35]\n",
        "dfY=dfY.replace('g',1.0)\n",
        "dfY=dfY.replace('b',0.0)\n",
        "dfY.head()\n"
      ],
      "execution_count": 2,
      "outputs": [
        {
          "output_type": "stream",
          "text": [
            "(351, 35)\n"
          ],
          "name": "stdout"
        },
        {
          "output_type": "execute_result",
          "data": {
            "text/html": [
              "<div>\n",
              "<style scoped>\n",
              "    .dataframe tbody tr th:only-of-type {\n",
              "        vertical-align: middle;\n",
              "    }\n",
              "\n",
              "    .dataframe tbody tr th {\n",
              "        vertical-align: top;\n",
              "    }\n",
              "\n",
              "    .dataframe thead th {\n",
              "        text-align: right;\n",
              "    }\n",
              "</style>\n",
              "<table border=\"1\" class=\"dataframe\">\n",
              "  <thead>\n",
              "    <tr style=\"text-align: right;\">\n",
              "      <th></th>\n",
              "      <th>label</th>\n",
              "    </tr>\n",
              "  </thead>\n",
              "  <tbody>\n",
              "    <tr>\n",
              "      <th>0</th>\n",
              "      <td>1.0</td>\n",
              "    </tr>\n",
              "    <tr>\n",
              "      <th>1</th>\n",
              "      <td>0.0</td>\n",
              "    </tr>\n",
              "    <tr>\n",
              "      <th>2</th>\n",
              "      <td>1.0</td>\n",
              "    </tr>\n",
              "    <tr>\n",
              "      <th>3</th>\n",
              "      <td>0.0</td>\n",
              "    </tr>\n",
              "    <tr>\n",
              "      <th>4</th>\n",
              "      <td>1.0</td>\n",
              "    </tr>\n",
              "  </tbody>\n",
              "</table>\n",
              "</div>"
            ],
            "text/plain": [
              "   label\n",
              "0    1.0\n",
              "1    0.0\n",
              "2    1.0\n",
              "3    0.0\n",
              "4    1.0"
            ]
          },
          "metadata": {
            "tags": []
          },
          "execution_count": 2
        }
      ]
    },
    {
      "cell_type": "code",
      "metadata": {
        "id": "MBMKbrkEdn7j"
      },
      "source": [
        "train_X,train_Y = dfX.iloc[:210],dfY.iloc[:210]\n",
        "train_X=(train_X-train_X.mean())/train_X.std()\n",
        "validate_X, validate_Y =dfX.iloc[210:],dfY.iloc[210:]\n",
        "validate_X=(validate_X-train_X.mean())/train_X.std()\n"
      ],
      "execution_count": 3,
      "outputs": []
    },
    {
      "cell_type": "code",
      "metadata": {
        "id": "p0uLrFrkhlOB"
      },
      "source": [
        "model = Sequential()\n",
        "model.add(Dense(16, input_shape = (train_X.shape[1],), activation='relu'))\n",
        "model.add(Dense(6, activation='relu'))\n",
        "\n",
        "model.add(Dense(1, activation='sigmoid'))\n",
        "model.compile(loss='binary_crossentropy', optimizer='adam', metrics=['accuracy'])"
      ],
      "execution_count": 4,
      "outputs": []
    },
    {
      "cell_type": "code",
      "metadata": {
        "colab": {
          "base_uri": "https://localhost:8080/"
        },
        "id": "UW2ihM29iB3k",
        "outputId": "51e1d225-135e-4283-ef72-d3559b021942"
      },
      "source": [
        "\n",
        "model.summary()\n"
      ],
      "execution_count": 5,
      "outputs": [
        {
          "output_type": "stream",
          "text": [
            "Model: \"sequential\"\n",
            "_________________________________________________________________\n",
            "Layer (type)                 Output Shape              Param #   \n",
            "=================================================================\n",
            "dense (Dense)                (None, 16)                512       \n",
            "_________________________________________________________________\n",
            "dense_1 (Dense)              (None, 6)                 102       \n",
            "_________________________________________________________________\n",
            "dense_2 (Dense)              (None, 1)                 7         \n",
            "=================================================================\n",
            "Total params: 621\n",
            "Trainable params: 621\n",
            "Non-trainable params: 0\n",
            "_________________________________________________________________\n"
          ],
          "name": "stdout"
        }
      ]
    },
    {
      "cell_type": "code",
      "metadata": {
        "colab": {
          "base_uri": "https://localhost:8080/"
        },
        "id": "GSnEyobrjMx3",
        "outputId": "2d13b2b3-542d-42cf-e7dc-ee1f9b2dc471"
      },
      "source": [
        "r=model.fit(train_X, train_Y,\n",
        "\tepochs=100, batch_size=1)"
      ],
      "execution_count": 6,
      "outputs": [
        {
          "output_type": "stream",
          "text": [
            "Epoch 1/100\n",
            "210/210 [==============================] - 3s 2ms/step - loss: 0.7166 - accuracy: 0.5284\n",
            "Epoch 2/100\n",
            "210/210 [==============================] - 0s 2ms/step - loss: 0.5583 - accuracy: 0.7713\n",
            "Epoch 3/100\n",
            "210/210 [==============================] - 0s 2ms/step - loss: 0.4662 - accuracy: 0.8138\n",
            "Epoch 4/100\n",
            "210/210 [==============================] - 0s 2ms/step - loss: 0.3576 - accuracy: 0.8689\n",
            "Epoch 5/100\n",
            "210/210 [==============================] - 0s 2ms/step - loss: 0.2940 - accuracy: 0.8876\n",
            "Epoch 6/100\n",
            "210/210 [==============================] - 0s 2ms/step - loss: 0.2829 - accuracy: 0.9119\n",
            "Epoch 7/100\n",
            "210/210 [==============================] - 0s 2ms/step - loss: 0.2176 - accuracy: 0.9155\n",
            "Epoch 8/100\n",
            "210/210 [==============================] - 0s 2ms/step - loss: 0.1967 - accuracy: 0.9153\n",
            "Epoch 9/100\n",
            "210/210 [==============================] - 0s 2ms/step - loss: 0.1496 - accuracy: 0.9525\n",
            "Epoch 10/100\n",
            "210/210 [==============================] - 0s 2ms/step - loss: 0.1482 - accuracy: 0.9577\n",
            "Epoch 11/100\n",
            "210/210 [==============================] - 0s 2ms/step - loss: 0.2114 - accuracy: 0.9355\n",
            "Epoch 12/100\n",
            "210/210 [==============================] - 0s 2ms/step - loss: 0.1248 - accuracy: 0.9686\n",
            "Epoch 13/100\n",
            "210/210 [==============================] - 0s 2ms/step - loss: 0.1223 - accuracy: 0.9649\n",
            "Epoch 14/100\n",
            "210/210 [==============================] - 0s 2ms/step - loss: 0.1128 - accuracy: 0.9714\n",
            "Epoch 15/100\n",
            "210/210 [==============================] - 0s 2ms/step - loss: 0.1057 - accuracy: 0.9501\n",
            "Epoch 16/100\n",
            "210/210 [==============================] - 0s 2ms/step - loss: 0.0893 - accuracy: 0.9667\n",
            "Epoch 17/100\n",
            "210/210 [==============================] - 0s 2ms/step - loss: 0.1091 - accuracy: 0.9572\n",
            "Epoch 18/100\n",
            "210/210 [==============================] - 0s 2ms/step - loss: 0.0612 - accuracy: 0.9772\n",
            "Epoch 19/100\n",
            "210/210 [==============================] - 0s 2ms/step - loss: 0.0623 - accuracy: 0.9893\n",
            "Epoch 20/100\n",
            "210/210 [==============================] - 0s 2ms/step - loss: 0.0620 - accuracy: 0.9799\n",
            "Epoch 21/100\n",
            "210/210 [==============================] - 0s 2ms/step - loss: 0.0757 - accuracy: 0.9739\n",
            "Epoch 22/100\n",
            "210/210 [==============================] - 0s 2ms/step - loss: 0.0663 - accuracy: 0.9812\n",
            "Epoch 23/100\n",
            "210/210 [==============================] - 0s 2ms/step - loss: 0.0387 - accuracy: 0.9926\n",
            "Epoch 24/100\n",
            "210/210 [==============================] - 0s 2ms/step - loss: 0.0470 - accuracy: 0.9927\n",
            "Epoch 25/100\n",
            "210/210 [==============================] - 0s 2ms/step - loss: 0.0349 - accuracy: 0.9942\n",
            "Epoch 26/100\n",
            "210/210 [==============================] - 0s 2ms/step - loss: 0.0219 - accuracy: 0.9988\n",
            "Epoch 27/100\n",
            "210/210 [==============================] - 0s 2ms/step - loss: 0.0261 - accuracy: 0.9979\n",
            "Epoch 28/100\n",
            "210/210 [==============================] - 0s 2ms/step - loss: 0.0403 - accuracy: 0.9869\n",
            "Epoch 29/100\n",
            "210/210 [==============================] - 0s 2ms/step - loss: 0.0290 - accuracy: 0.9934\n",
            "Epoch 30/100\n",
            "210/210 [==============================] - 0s 2ms/step - loss: 0.0353 - accuracy: 0.9836\n",
            "Epoch 31/100\n",
            "210/210 [==============================] - 0s 2ms/step - loss: 0.0288 - accuracy: 0.9948\n",
            "Epoch 32/100\n",
            "210/210 [==============================] - 0s 2ms/step - loss: 0.0373 - accuracy: 0.9868\n",
            "Epoch 33/100\n",
            "210/210 [==============================] - 0s 2ms/step - loss: 0.0321 - accuracy: 0.9881\n",
            "Epoch 34/100\n",
            "210/210 [==============================] - 0s 2ms/step - loss: 0.0378 - accuracy: 0.9848\n",
            "Epoch 35/100\n",
            "210/210 [==============================] - 0s 2ms/step - loss: 0.0280 - accuracy: 0.9854\n",
            "Epoch 36/100\n",
            "210/210 [==============================] - 0s 2ms/step - loss: 0.0560 - accuracy: 0.9719\n",
            "Epoch 37/100\n",
            "210/210 [==============================] - 0s 2ms/step - loss: 0.0092 - accuracy: 0.9969\n",
            "Epoch 38/100\n",
            "210/210 [==============================] - 0s 2ms/step - loss: 0.0163 - accuracy: 0.9918\n",
            "Epoch 39/100\n",
            "210/210 [==============================] - 0s 2ms/step - loss: 0.0154 - accuracy: 0.9961\n",
            "Epoch 40/100\n",
            "210/210 [==============================] - 0s 2ms/step - loss: 0.0166 - accuracy: 1.0000\n",
            "Epoch 41/100\n",
            "210/210 [==============================] - 0s 2ms/step - loss: 0.0153 - accuracy: 0.9925\n",
            "Epoch 42/100\n",
            "210/210 [==============================] - 0s 2ms/step - loss: 0.0193 - accuracy: 1.0000\n",
            "Epoch 43/100\n",
            "210/210 [==============================] - 0s 2ms/step - loss: 0.0137 - accuracy: 1.0000\n",
            "Epoch 44/100\n",
            "210/210 [==============================] - 0s 2ms/step - loss: 0.0106 - accuracy: 0.9991\n",
            "Epoch 45/100\n",
            "210/210 [==============================] - 0s 2ms/step - loss: 0.0077 - accuracy: 1.0000\n",
            "Epoch 46/100\n",
            "210/210 [==============================] - 0s 2ms/step - loss: 0.0053 - accuracy: 1.0000\n",
            "Epoch 47/100\n",
            "210/210 [==============================] - 0s 2ms/step - loss: 0.0161 - accuracy: 1.0000\n",
            "Epoch 48/100\n",
            "210/210 [==============================] - 0s 2ms/step - loss: 0.0043 - accuracy: 1.0000\n",
            "Epoch 49/100\n",
            "210/210 [==============================] - 0s 2ms/step - loss: 0.0044 - accuracy: 1.0000\n",
            "Epoch 50/100\n",
            "210/210 [==============================] - 0s 2ms/step - loss: 0.0078 - accuracy: 1.0000\n",
            "Epoch 51/100\n",
            "210/210 [==============================] - 0s 2ms/step - loss: 0.0042 - accuracy: 1.0000\n",
            "Epoch 52/100\n",
            "210/210 [==============================] - 0s 2ms/step - loss: 0.0024 - accuracy: 1.0000\n",
            "Epoch 53/100\n",
            "210/210 [==============================] - 0s 2ms/step - loss: 0.0019 - accuracy: 1.0000\n",
            "Epoch 54/100\n",
            "210/210 [==============================] - 0s 2ms/step - loss: 0.0015 - accuracy: 1.0000\n",
            "Epoch 55/100\n",
            "210/210 [==============================] - 0s 2ms/step - loss: 0.0032 - accuracy: 1.0000\n",
            "Epoch 56/100\n",
            "210/210 [==============================] - 0s 2ms/step - loss: 0.0022 - accuracy: 1.0000\n",
            "Epoch 57/100\n",
            "210/210 [==============================] - 0s 2ms/step - loss: 0.0011 - accuracy: 1.0000\n",
            "Epoch 58/100\n",
            "210/210 [==============================] - 0s 2ms/step - loss: 0.0013 - accuracy: 1.0000\n",
            "Epoch 59/100\n",
            "210/210 [==============================] - 0s 2ms/step - loss: 0.0015 - accuracy: 1.0000\n",
            "Epoch 60/100\n",
            "210/210 [==============================] - 0s 2ms/step - loss: 0.0013 - accuracy: 1.0000\n",
            "Epoch 61/100\n",
            "210/210 [==============================] - 0s 2ms/step - loss: 0.0012 - accuracy: 1.0000\n",
            "Epoch 62/100\n",
            "210/210 [==============================] - 0s 2ms/step - loss: 8.6807e-04 - accuracy: 1.0000\n",
            "Epoch 63/100\n",
            "210/210 [==============================] - 0s 2ms/step - loss: 0.0010 - accuracy: 1.0000\n",
            "Epoch 64/100\n",
            "210/210 [==============================] - 0s 2ms/step - loss: 9.0043e-04 - accuracy: 1.0000\n",
            "Epoch 65/100\n",
            "210/210 [==============================] - 0s 2ms/step - loss: 5.9004e-04 - accuracy: 1.0000\n",
            "Epoch 66/100\n",
            "210/210 [==============================] - 0s 2ms/step - loss: 6.9261e-04 - accuracy: 1.0000\n",
            "Epoch 67/100\n",
            "210/210 [==============================] - 0s 2ms/step - loss: 1.7667e-04 - accuracy: 1.0000\n",
            "Epoch 68/100\n",
            "210/210 [==============================] - 0s 2ms/step - loss: 0.0017 - accuracy: 1.0000\n",
            "Epoch 69/100\n",
            "210/210 [==============================] - 0s 2ms/step - loss: 0.0029 - accuracy: 1.0000\n",
            "Epoch 70/100\n",
            "210/210 [==============================] - 0s 2ms/step - loss: 0.0016 - accuracy: 0.9996\n",
            "Epoch 71/100\n",
            "210/210 [==============================] - 0s 2ms/step - loss: 0.0097 - accuracy: 0.9961\n",
            "Epoch 72/100\n",
            "210/210 [==============================] - 0s 2ms/step - loss: 2.4927e-04 - accuracy: 1.0000\n",
            "Epoch 73/100\n",
            "210/210 [==============================] - 0s 2ms/step - loss: 2.4679e-04 - accuracy: 1.0000\n",
            "Epoch 74/100\n",
            "210/210 [==============================] - 0s 2ms/step - loss: 2.6831e-04 - accuracy: 1.0000\n",
            "Epoch 75/100\n",
            "210/210 [==============================] - 0s 2ms/step - loss: 4.3002e-04 - accuracy: 1.0000\n",
            "Epoch 76/100\n",
            "210/210 [==============================] - 0s 2ms/step - loss: 1.8428e-04 - accuracy: 1.0000\n",
            "Epoch 77/100\n",
            "210/210 [==============================] - 0s 2ms/step - loss: 2.0803e-04 - accuracy: 1.0000\n",
            "Epoch 78/100\n",
            "210/210 [==============================] - 0s 2ms/step - loss: 3.2356e-04 - accuracy: 1.0000\n",
            "Epoch 79/100\n",
            "210/210 [==============================] - 0s 2ms/step - loss: 2.4816e-04 - accuracy: 1.0000\n",
            "Epoch 80/100\n",
            "210/210 [==============================] - 0s 2ms/step - loss: 2.6318e-04 - accuracy: 1.0000\n",
            "Epoch 81/100\n",
            "210/210 [==============================] - 0s 2ms/step - loss: 3.4372e-04 - accuracy: 1.0000\n",
            "Epoch 82/100\n",
            "210/210 [==============================] - 0s 2ms/step - loss: 2.3058e-04 - accuracy: 1.0000\n",
            "Epoch 83/100\n",
            "210/210 [==============================] - 0s 2ms/step - loss: 2.3476e-04 - accuracy: 1.0000\n",
            "Epoch 84/100\n",
            "210/210 [==============================] - 0s 2ms/step - loss: 1.8862e-04 - accuracy: 1.0000\n",
            "Epoch 85/100\n",
            "210/210 [==============================] - 0s 2ms/step - loss: 2.7493e-04 - accuracy: 1.0000\n",
            "Epoch 86/100\n",
            "210/210 [==============================] - 0s 2ms/step - loss: 2.6579e-04 - accuracy: 1.0000\n",
            "Epoch 87/100\n",
            "210/210 [==============================] - 0s 2ms/step - loss: 2.4036e-04 - accuracy: 1.0000\n",
            "Epoch 88/100\n",
            "210/210 [==============================] - 0s 2ms/step - loss: 1.3985e-04 - accuracy: 1.0000\n",
            "Epoch 89/100\n",
            "210/210 [==============================] - 0s 2ms/step - loss: 1.8479e-04 - accuracy: 1.0000\n",
            "Epoch 90/100\n",
            "210/210 [==============================] - 0s 2ms/step - loss: 1.9738e-04 - accuracy: 1.0000\n",
            "Epoch 91/100\n",
            "210/210 [==============================] - 0s 2ms/step - loss: 2.9537e-04 - accuracy: 1.0000\n",
            "Epoch 92/100\n",
            "210/210 [==============================] - 0s 2ms/step - loss: 1.4617e-04 - accuracy: 1.0000\n",
            "Epoch 93/100\n",
            "210/210 [==============================] - 0s 2ms/step - loss: 8.4483e-05 - accuracy: 1.0000\n",
            "Epoch 94/100\n",
            "210/210 [==============================] - 0s 2ms/step - loss: 6.3442e-05 - accuracy: 1.0000\n",
            "Epoch 95/100\n",
            "210/210 [==============================] - 0s 2ms/step - loss: 8.6800e-05 - accuracy: 1.0000\n",
            "Epoch 96/100\n",
            "210/210 [==============================] - 0s 2ms/step - loss: 7.9399e-05 - accuracy: 1.0000\n",
            "Epoch 97/100\n",
            "210/210 [==============================] - 0s 2ms/step - loss: 1.1007e-04 - accuracy: 1.0000\n",
            "Epoch 98/100\n",
            "210/210 [==============================] - 0s 2ms/step - loss: 4.1414e-05 - accuracy: 1.0000\n",
            "Epoch 99/100\n",
            "210/210 [==============================] - 0s 2ms/step - loss: 4.8444e-05 - accuracy: 1.0000\n",
            "Epoch 100/100\n",
            "210/210 [==============================] - 0s 2ms/step - loss: 5.1312e-05 - accuracy: 1.0000\n"
          ],
          "name": "stdout"
        }
      ]
    },
    {
      "cell_type": "code",
      "metadata": {
        "colab": {
          "base_uri": "https://localhost:8080/"
        },
        "id": "SN0M0mDJrC6W",
        "outputId": "7ae025de-26a8-4aec-8636-719beab6e773"
      },
      "source": [
        "e= r.history\n",
        "ef=pd.DataFrame(e)\n",
        "ef[\"accuracy\"].max()"
      ],
      "execution_count": 7,
      "outputs": [
        {
          "output_type": "execute_result",
          "data": {
            "text/plain": [
              "1.0"
            ]
          },
          "metadata": {
            "tags": []
          },
          "execution_count": 7
        }
      ]
    },
    {
      "cell_type": "code",
      "metadata": {
        "colab": {
          "base_uri": "https://localhost:8080/",
          "height": 282
        },
        "id": "EB0KwQ28rSxi",
        "outputId": "dc44947f-346b-4a67-ce8e-a7caed91dcba"
      },
      "source": [
        "import matplotlib.pyplot as plt\n",
        "\n",
        "model.evaluate(validate_X,validate_Y)\n",
        "plt.plot(validate_Y)\n",
        "plt.ylabel('graph')\n",
        "plt.show()"
      ],
      "execution_count": 8,
      "outputs": [
        {
          "output_type": "stream",
          "text": [
            "5/5 [==============================] - 0s 3ms/step - loss: 0.8307 - accuracy: 0.9291\n"
          ],
          "name": "stdout"
        },
        {
          "output_type": "display_data",
          "data": {
            "image/png": "[encoded data removed]",
            "text/plain": [
              "<Figure size 432x288 with 1 Axes>"
            ]
          },
          "metadata": {
            "tags": [],
            "needs_background": "light"
          }
        }
      ]
    },
    {
      "cell_type": "code",
      "metadata": {
        "colab": {
          "base_uri": "https://localhost:8080/",
          "height": 265
        },
        "id": "YQ4hIMhMsymY",
        "outputId": "07334063-92b8-4281-c081-381ae4f4b38d"
      },
      "source": [
        "plt.plot(model.predict(validate_X))\n",
        "plt.show()"
      ],
      "execution_count": 9,
      "outputs": [
        {
          "output_type": "display_data",
          "data": {
            "image/png": "[encoded data removed]",
            "text/plain": [
              "<Figure size 432x288 with 1 Axes>"
            ]
          },
          "metadata": {
            "tags": [],
            "needs_background": "light"
          }
        }
      ]
    }
  ]
}